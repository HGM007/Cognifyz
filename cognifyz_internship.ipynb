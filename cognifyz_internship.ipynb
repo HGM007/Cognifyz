{
 "cells": [
  {
   "cell_type": "code",
   "execution_count": 42,
   "id": "42511d61",
   "metadata": {},
   "outputs": [],
   "source": [
    "import pandas as pd\n",
    "import numpy as np\n",
    "import seaborn as sn\n",
    "import matplotlib.pyplot as plt\n",
    "%matplotlib inline"
   ]
  },
  {
   "cell_type": "code",
   "execution_count": 2,
   "id": "0bc879d2",
   "metadata": {},
   "outputs": [],
   "source": [
    "df = pd.read_csv(\"Dataset.csv\")"
   ]
  },
  {
   "cell_type": "markdown",
   "id": "a313973e",
   "metadata": {},
   "source": [
    "# LEVEL 1"
   ]
  },
  {
   "cell_type": "markdown",
   "id": "b1e3f985",
   "metadata": {},
   "source": [
    "## Data Exploration and Preprocessing"
   ]
  },
  {
   "cell_type": "code",
   "execution_count": 3,
   "id": "e8868079",
   "metadata": {},
   "outputs": [
    {
     "data": {
      "text/html": [
       "<div>\n",
       "<style scoped>\n",
       "    .dataframe tbody tr th:only-of-type {\n",
       "        vertical-align: middle;\n",
       "    }\n",
       "\n",
       "    .dataframe tbody tr th {\n",
       "        vertical-align: top;\n",
       "    }\n",
       "\n",
       "    .dataframe thead th {\n",
       "        text-align: right;\n",
       "    }\n",
       "</style>\n",
       "<table border=\"1\" class=\"dataframe\">\n",
       "  <thead>\n",
       "    <tr style=\"text-align: right;\">\n",
       "      <th></th>\n",
       "      <th>Restaurant ID</th>\n",
       "      <th>Restaurant Name</th>\n",
       "      <th>Country Code</th>\n",
       "      <th>City</th>\n",
       "      <th>Address</th>\n",
       "      <th>Locality</th>\n",
       "      <th>Locality Verbose</th>\n",
       "      <th>Longitude</th>\n",
       "      <th>Latitude</th>\n",
       "      <th>Cuisines</th>\n",
       "      <th>...</th>\n",
       "      <th>Currency</th>\n",
       "      <th>Has Table booking</th>\n",
       "      <th>Has Online delivery</th>\n",
       "      <th>Is delivering now</th>\n",
       "      <th>Switch to order menu</th>\n",
       "      <th>Price range</th>\n",
       "      <th>Aggregate rating</th>\n",
       "      <th>Rating color</th>\n",
       "      <th>Rating text</th>\n",
       "      <th>Votes</th>\n",
       "    </tr>\n",
       "  </thead>\n",
       "  <tbody>\n",
       "    <tr>\n",
       "      <th>0</th>\n",
       "      <td>6317637</td>\n",
       "      <td>Le Petit Souffle</td>\n",
       "      <td>162</td>\n",
       "      <td>Makati City</td>\n",
       "      <td>Third Floor, Century City Mall, Kalayaan Avenu...</td>\n",
       "      <td>Century City Mall, Poblacion, Makati City</td>\n",
       "      <td>Century City Mall, Poblacion, Makati City, Mak...</td>\n",
       "      <td>121.027535</td>\n",
       "      <td>14.565443</td>\n",
       "      <td>French, Japanese, Desserts</td>\n",
       "      <td>...</td>\n",
       "      <td>Botswana Pula(P)</td>\n",
       "      <td>Yes</td>\n",
       "      <td>No</td>\n",
       "      <td>No</td>\n",
       "      <td>No</td>\n",
       "      <td>3</td>\n",
       "      <td>4.8</td>\n",
       "      <td>Dark Green</td>\n",
       "      <td>Excellent</td>\n",
       "      <td>314</td>\n",
       "    </tr>\n",
       "    <tr>\n",
       "      <th>1</th>\n",
       "      <td>6304287</td>\n",
       "      <td>Izakaya Kikufuji</td>\n",
       "      <td>162</td>\n",
       "      <td>Makati City</td>\n",
       "      <td>Little Tokyo, 2277 Chino Roces Avenue, Legaspi...</td>\n",
       "      <td>Little Tokyo, Legaspi Village, Makati City</td>\n",
       "      <td>Little Tokyo, Legaspi Village, Makati City, Ma...</td>\n",
       "      <td>121.014101</td>\n",
       "      <td>14.553708</td>\n",
       "      <td>Japanese</td>\n",
       "      <td>...</td>\n",
       "      <td>Botswana Pula(P)</td>\n",
       "      <td>Yes</td>\n",
       "      <td>No</td>\n",
       "      <td>No</td>\n",
       "      <td>No</td>\n",
       "      <td>3</td>\n",
       "      <td>4.5</td>\n",
       "      <td>Dark Green</td>\n",
       "      <td>Excellent</td>\n",
       "      <td>591</td>\n",
       "    </tr>\n",
       "    <tr>\n",
       "      <th>2</th>\n",
       "      <td>6300002</td>\n",
       "      <td>Heat - Edsa Shangri-La</td>\n",
       "      <td>162</td>\n",
       "      <td>Mandaluyong City</td>\n",
       "      <td>Edsa Shangri-La, 1 Garden Way, Ortigas, Mandal...</td>\n",
       "      <td>Edsa Shangri-La, Ortigas, Mandaluyong City</td>\n",
       "      <td>Edsa Shangri-La, Ortigas, Mandaluyong City, Ma...</td>\n",
       "      <td>121.056831</td>\n",
       "      <td>14.581404</td>\n",
       "      <td>Seafood, Asian, Filipino, Indian</td>\n",
       "      <td>...</td>\n",
       "      <td>Botswana Pula(P)</td>\n",
       "      <td>Yes</td>\n",
       "      <td>No</td>\n",
       "      <td>No</td>\n",
       "      <td>No</td>\n",
       "      <td>4</td>\n",
       "      <td>4.4</td>\n",
       "      <td>Green</td>\n",
       "      <td>Very Good</td>\n",
       "      <td>270</td>\n",
       "    </tr>\n",
       "    <tr>\n",
       "      <th>3</th>\n",
       "      <td>6318506</td>\n",
       "      <td>Ooma</td>\n",
       "      <td>162</td>\n",
       "      <td>Mandaluyong City</td>\n",
       "      <td>Third Floor, Mega Fashion Hall, SM Megamall, O...</td>\n",
       "      <td>SM Megamall, Ortigas, Mandaluyong City</td>\n",
       "      <td>SM Megamall, Ortigas, Mandaluyong City, Mandal...</td>\n",
       "      <td>121.056475</td>\n",
       "      <td>14.585318</td>\n",
       "      <td>Japanese, Sushi</td>\n",
       "      <td>...</td>\n",
       "      <td>Botswana Pula(P)</td>\n",
       "      <td>No</td>\n",
       "      <td>No</td>\n",
       "      <td>No</td>\n",
       "      <td>No</td>\n",
       "      <td>4</td>\n",
       "      <td>4.9</td>\n",
       "      <td>Dark Green</td>\n",
       "      <td>Excellent</td>\n",
       "      <td>365</td>\n",
       "    </tr>\n",
       "    <tr>\n",
       "      <th>4</th>\n",
       "      <td>6314302</td>\n",
       "      <td>Sambo Kojin</td>\n",
       "      <td>162</td>\n",
       "      <td>Mandaluyong City</td>\n",
       "      <td>Third Floor, Mega Atrium, SM Megamall, Ortigas...</td>\n",
       "      <td>SM Megamall, Ortigas, Mandaluyong City</td>\n",
       "      <td>SM Megamall, Ortigas, Mandaluyong City, Mandal...</td>\n",
       "      <td>121.057508</td>\n",
       "      <td>14.584450</td>\n",
       "      <td>Japanese, Korean</td>\n",
       "      <td>...</td>\n",
       "      <td>Botswana Pula(P)</td>\n",
       "      <td>Yes</td>\n",
       "      <td>No</td>\n",
       "      <td>No</td>\n",
       "      <td>No</td>\n",
       "      <td>4</td>\n",
       "      <td>4.8</td>\n",
       "      <td>Dark Green</td>\n",
       "      <td>Excellent</td>\n",
       "      <td>229</td>\n",
       "    </tr>\n",
       "  </tbody>\n",
       "</table>\n",
       "<p>5 rows × 21 columns</p>\n",
       "</div>"
      ],
      "text/plain": [
       "   Restaurant ID         Restaurant Name  Country Code              City  \\\n",
       "0        6317637        Le Petit Souffle           162       Makati City   \n",
       "1        6304287        Izakaya Kikufuji           162       Makati City   \n",
       "2        6300002  Heat - Edsa Shangri-La           162  Mandaluyong City   \n",
       "3        6318506                    Ooma           162  Mandaluyong City   \n",
       "4        6314302             Sambo Kojin           162  Mandaluyong City   \n",
       "\n",
       "                                             Address  \\\n",
       "0  Third Floor, Century City Mall, Kalayaan Avenu...   \n",
       "1  Little Tokyo, 2277 Chino Roces Avenue, Legaspi...   \n",
       "2  Edsa Shangri-La, 1 Garden Way, Ortigas, Mandal...   \n",
       "3  Third Floor, Mega Fashion Hall, SM Megamall, O...   \n",
       "4  Third Floor, Mega Atrium, SM Megamall, Ortigas...   \n",
       "\n",
       "                                     Locality  \\\n",
       "0   Century City Mall, Poblacion, Makati City   \n",
       "1  Little Tokyo, Legaspi Village, Makati City   \n",
       "2  Edsa Shangri-La, Ortigas, Mandaluyong City   \n",
       "3      SM Megamall, Ortigas, Mandaluyong City   \n",
       "4      SM Megamall, Ortigas, Mandaluyong City   \n",
       "\n",
       "                                    Locality Verbose   Longitude   Latitude  \\\n",
       "0  Century City Mall, Poblacion, Makati City, Mak...  121.027535  14.565443   \n",
       "1  Little Tokyo, Legaspi Village, Makati City, Ma...  121.014101  14.553708   \n",
       "2  Edsa Shangri-La, Ortigas, Mandaluyong City, Ma...  121.056831  14.581404   \n",
       "3  SM Megamall, Ortigas, Mandaluyong City, Mandal...  121.056475  14.585318   \n",
       "4  SM Megamall, Ortigas, Mandaluyong City, Mandal...  121.057508  14.584450   \n",
       "\n",
       "                           Cuisines  ...          Currency Has Table booking  \\\n",
       "0        French, Japanese, Desserts  ...  Botswana Pula(P)               Yes   \n",
       "1                          Japanese  ...  Botswana Pula(P)               Yes   \n",
       "2  Seafood, Asian, Filipino, Indian  ...  Botswana Pula(P)               Yes   \n",
       "3                   Japanese, Sushi  ...  Botswana Pula(P)                No   \n",
       "4                  Japanese, Korean  ...  Botswana Pula(P)               Yes   \n",
       "\n",
       "  Has Online delivery Is delivering now Switch to order menu Price range  \\\n",
       "0                  No                No                   No           3   \n",
       "1                  No                No                   No           3   \n",
       "2                  No                No                   No           4   \n",
       "3                  No                No                   No           4   \n",
       "4                  No                No                   No           4   \n",
       "\n",
       "   Aggregate rating  Rating color Rating text Votes  \n",
       "0               4.8    Dark Green   Excellent   314  \n",
       "1               4.5    Dark Green   Excellent   591  \n",
       "2               4.4         Green   Very Good   270  \n",
       "3               4.9    Dark Green   Excellent   365  \n",
       "4               4.8    Dark Green   Excellent   229  \n",
       "\n",
       "[5 rows x 21 columns]"
      ]
     },
     "execution_count": 3,
     "metadata": {},
     "output_type": "execute_result"
    }
   ],
   "source": [
    "df.head(5)"
   ]
  },
  {
   "cell_type": "code",
   "execution_count": 4,
   "id": "4534d57e",
   "metadata": {},
   "outputs": [
    {
     "data": {
      "text/plain": [
       "Index(['Restaurant ID', 'Restaurant Name', 'Country Code', 'City', 'Address',\n",
       "       'Locality', 'Locality Verbose', 'Longitude', 'Latitude', 'Cuisines',\n",
       "       'Average Cost for two', 'Currency', 'Has Table booking',\n",
       "       'Has Online delivery', 'Is delivering now', 'Switch to order menu',\n",
       "       'Price range', 'Aggregate rating', 'Rating color', 'Rating text',\n",
       "       'Votes'],\n",
       "      dtype='object')"
      ]
     },
     "execution_count": 4,
     "metadata": {},
     "output_type": "execute_result"
    }
   ],
   "source": [
    "df.columns"
   ]
  },
  {
   "cell_type": "code",
   "execution_count": 5,
   "id": "e6de4f8d",
   "metadata": {},
   "outputs": [
    {
     "data": {
      "text/plain": [
       "Restaurant ID           0\n",
       "Restaurant Name         0\n",
       "Country Code            0\n",
       "City                    0\n",
       "Address                 0\n",
       "Locality                0\n",
       "Locality Verbose        0\n",
       "Longitude               0\n",
       "Latitude                0\n",
       "Cuisines                9\n",
       "Average Cost for two    0\n",
       "Currency                0\n",
       "Has Table booking       0\n",
       "Has Online delivery     0\n",
       "Is delivering now       0\n",
       "Switch to order menu    0\n",
       "Price range             0\n",
       "Aggregate rating        0\n",
       "Rating color            0\n",
       "Rating text             0\n",
       "Votes                   0\n",
       "dtype: int64"
      ]
     },
     "execution_count": 5,
     "metadata": {},
     "output_type": "execute_result"
    }
   ],
   "source": [
    "df.isnull().sum()"
   ]
  },
  {
   "cell_type": "code",
   "execution_count": 6,
   "id": "e4e985d5",
   "metadata": {},
   "outputs": [
    {
     "name": "stdout",
     "output_type": "stream",
     "text": [
      "<class 'pandas.core.frame.DataFrame'>\n",
      "RangeIndex: 9551 entries, 0 to 9550\n",
      "Data columns (total 21 columns):\n",
      " #   Column                Non-Null Count  Dtype  \n",
      "---  ------                --------------  -----  \n",
      " 0   Restaurant ID         9551 non-null   int64  \n",
      " 1   Restaurant Name       9551 non-null   object \n",
      " 2   Country Code          9551 non-null   int64  \n",
      " 3   City                  9551 non-null   object \n",
      " 4   Address               9551 non-null   object \n",
      " 5   Locality              9551 non-null   object \n",
      " 6   Locality Verbose      9551 non-null   object \n",
      " 7   Longitude             9551 non-null   float64\n",
      " 8   Latitude              9551 non-null   float64\n",
      " 9   Cuisines              9542 non-null   object \n",
      " 10  Average Cost for two  9551 non-null   int64  \n",
      " 11  Currency              9551 non-null   object \n",
      " 12  Has Table booking     9551 non-null   object \n",
      " 13  Has Online delivery   9551 non-null   object \n",
      " 14  Is delivering now     9551 non-null   object \n",
      " 15  Switch to order menu  9551 non-null   object \n",
      " 16  Price range           9551 non-null   int64  \n",
      " 17  Aggregate rating      9551 non-null   float64\n",
      " 18  Rating color          9551 non-null   object \n",
      " 19  Rating text           9551 non-null   object \n",
      " 20  Votes                 9551 non-null   int64  \n",
      "dtypes: float64(3), int64(5), object(13)\n",
      "memory usage: 1.5+ MB\n"
     ]
    }
   ],
   "source": [
    "df.info()"
   ]
  },
  {
   "cell_type": "code",
   "execution_count": 7,
   "id": "16db2c1e",
   "metadata": {},
   "outputs": [
    {
     "data": {
      "text/plain": [
       "(9551, 21)"
      ]
     },
     "execution_count": 7,
     "metadata": {},
     "output_type": "execute_result"
    }
   ],
   "source": [
    "df.shape"
   ]
  },
  {
   "cell_type": "markdown",
   "id": "caf73056",
   "metadata": {},
   "source": [
    "## Descriptive Analysis"
   ]
  },
  {
   "cell_type": "code",
   "execution_count": 8,
   "id": "7e341e58",
   "metadata": {},
   "outputs": [
    {
     "data": {
      "text/html": [
       "<div>\n",
       "<style scoped>\n",
       "    .dataframe tbody tr th:only-of-type {\n",
       "        vertical-align: middle;\n",
       "    }\n",
       "\n",
       "    .dataframe tbody tr th {\n",
       "        vertical-align: top;\n",
       "    }\n",
       "\n",
       "    .dataframe thead th {\n",
       "        text-align: right;\n",
       "    }\n",
       "</style>\n",
       "<table border=\"1\" class=\"dataframe\">\n",
       "  <thead>\n",
       "    <tr style=\"text-align: right;\">\n",
       "      <th></th>\n",
       "      <th>Restaurant ID</th>\n",
       "      <th>Country Code</th>\n",
       "      <th>Longitude</th>\n",
       "      <th>Latitude</th>\n",
       "      <th>Average Cost for two</th>\n",
       "      <th>Price range</th>\n",
       "      <th>Aggregate rating</th>\n",
       "      <th>Votes</th>\n",
       "    </tr>\n",
       "  </thead>\n",
       "  <tbody>\n",
       "    <tr>\n",
       "      <th>count</th>\n",
       "      <td>9.551000e+03</td>\n",
       "      <td>9551.000000</td>\n",
       "      <td>9551.000000</td>\n",
       "      <td>9551.000000</td>\n",
       "      <td>9551.000000</td>\n",
       "      <td>9551.000000</td>\n",
       "      <td>9551.000000</td>\n",
       "      <td>9551.000000</td>\n",
       "    </tr>\n",
       "    <tr>\n",
       "      <th>mean</th>\n",
       "      <td>9.051128e+06</td>\n",
       "      <td>18.365616</td>\n",
       "      <td>64.126574</td>\n",
       "      <td>25.854381</td>\n",
       "      <td>1199.210763</td>\n",
       "      <td>1.804837</td>\n",
       "      <td>2.666370</td>\n",
       "      <td>156.909748</td>\n",
       "    </tr>\n",
       "    <tr>\n",
       "      <th>std</th>\n",
       "      <td>8.791521e+06</td>\n",
       "      <td>56.750546</td>\n",
       "      <td>41.467058</td>\n",
       "      <td>11.007935</td>\n",
       "      <td>16121.183073</td>\n",
       "      <td>0.905609</td>\n",
       "      <td>1.516378</td>\n",
       "      <td>430.169145</td>\n",
       "    </tr>\n",
       "    <tr>\n",
       "      <th>min</th>\n",
       "      <td>5.300000e+01</td>\n",
       "      <td>1.000000</td>\n",
       "      <td>-157.948486</td>\n",
       "      <td>-41.330428</td>\n",
       "      <td>0.000000</td>\n",
       "      <td>1.000000</td>\n",
       "      <td>0.000000</td>\n",
       "      <td>0.000000</td>\n",
       "    </tr>\n",
       "    <tr>\n",
       "      <th>25%</th>\n",
       "      <td>3.019625e+05</td>\n",
       "      <td>1.000000</td>\n",
       "      <td>77.081343</td>\n",
       "      <td>28.478713</td>\n",
       "      <td>250.000000</td>\n",
       "      <td>1.000000</td>\n",
       "      <td>2.500000</td>\n",
       "      <td>5.000000</td>\n",
       "    </tr>\n",
       "    <tr>\n",
       "      <th>50%</th>\n",
       "      <td>6.004089e+06</td>\n",
       "      <td>1.000000</td>\n",
       "      <td>77.191964</td>\n",
       "      <td>28.570469</td>\n",
       "      <td>400.000000</td>\n",
       "      <td>2.000000</td>\n",
       "      <td>3.200000</td>\n",
       "      <td>31.000000</td>\n",
       "    </tr>\n",
       "    <tr>\n",
       "      <th>75%</th>\n",
       "      <td>1.835229e+07</td>\n",
       "      <td>1.000000</td>\n",
       "      <td>77.282006</td>\n",
       "      <td>28.642758</td>\n",
       "      <td>700.000000</td>\n",
       "      <td>2.000000</td>\n",
       "      <td>3.700000</td>\n",
       "      <td>131.000000</td>\n",
       "    </tr>\n",
       "    <tr>\n",
       "      <th>max</th>\n",
       "      <td>1.850065e+07</td>\n",
       "      <td>216.000000</td>\n",
       "      <td>174.832089</td>\n",
       "      <td>55.976980</td>\n",
       "      <td>800000.000000</td>\n",
       "      <td>4.000000</td>\n",
       "      <td>4.900000</td>\n",
       "      <td>10934.000000</td>\n",
       "    </tr>\n",
       "  </tbody>\n",
       "</table>\n",
       "</div>"
      ],
      "text/plain": [
       "       Restaurant ID  Country Code    Longitude     Latitude  \\\n",
       "count   9.551000e+03   9551.000000  9551.000000  9551.000000   \n",
       "mean    9.051128e+06     18.365616    64.126574    25.854381   \n",
       "std     8.791521e+06     56.750546    41.467058    11.007935   \n",
       "min     5.300000e+01      1.000000  -157.948486   -41.330428   \n",
       "25%     3.019625e+05      1.000000    77.081343    28.478713   \n",
       "50%     6.004089e+06      1.000000    77.191964    28.570469   \n",
       "75%     1.835229e+07      1.000000    77.282006    28.642758   \n",
       "max     1.850065e+07    216.000000   174.832089    55.976980   \n",
       "\n",
       "       Average Cost for two  Price range  Aggregate rating         Votes  \n",
       "count           9551.000000  9551.000000       9551.000000   9551.000000  \n",
       "mean            1199.210763     1.804837          2.666370    156.909748  \n",
       "std            16121.183073     0.905609          1.516378    430.169145  \n",
       "min                0.000000     1.000000          0.000000      0.000000  \n",
       "25%              250.000000     1.000000          2.500000      5.000000  \n",
       "50%              400.000000     2.000000          3.200000     31.000000  \n",
       "75%              700.000000     2.000000          3.700000    131.000000  \n",
       "max           800000.000000     4.000000          4.900000  10934.000000  "
      ]
     },
     "execution_count": 8,
     "metadata": {},
     "output_type": "execute_result"
    }
   ],
   "source": [
    "df.describe()"
   ]
  },
  {
   "cell_type": "code",
   "execution_count": 9,
   "id": "1574ef29",
   "metadata": {},
   "outputs": [
    {
     "data": {
      "text/plain": [
       "array([936, 511, 354, 334, 299, 218, 197, 170, 149, 131, 118, 116, 112,\n",
       "       108, 105, 103,  83,  74,  71,  70,  68,  65,  63,  62,  60,  56,\n",
       "        54,  53,  51,  49,  46,  44,  43,  42,  41,  36,  35,  34,  31,\n",
       "        28,  26,  24,  22,  21,  20,  19,  18,  17,  16,  15,  14,  13,\n",
       "        12,  11,  10,   9,   8,   7,   6,   5,   4,   3,   2,   1],\n",
       "      dtype=int64)"
      ]
     },
     "execution_count": 9,
     "metadata": {},
     "output_type": "execute_result"
    }
   ],
   "source": [
    "df['Cuisines'].value_counts().unique()"
   ]
  },
  {
   "cell_type": "code",
   "execution_count": 10,
   "id": "078f738f",
   "metadata": {},
   "outputs": [
    {
     "data": {
      "text/plain": [
       "array(['French, Japanese, Desserts', 'Japanese',\n",
       "       'Seafood, Asian, Filipino, Indian', ..., 'Burger, Izgara',\n",
       "       'World Cuisine, Patisserie, Cafe', 'Italian, World Cuisine'],\n",
       "      dtype=object)"
      ]
     },
     "execution_count": 10,
     "metadata": {},
     "output_type": "execute_result"
    }
   ],
   "source": [
    "df['Cuisines'].unique()"
   ]
  },
  {
   "cell_type": "code",
   "execution_count": 11,
   "id": "a12a82d1",
   "metadata": {},
   "outputs": [
    {
     "data": {
      "text/plain": [
       "array(['French, Japanese, Desserts', 'Japanese',\n",
       "       'Seafood, Asian, Filipino, Indian', ..., 'Burger, Izgara',\n",
       "       'World Cuisine, Patisserie, Cafe', 'Italian, World Cuisine'],\n",
       "      dtype=object)"
      ]
     },
     "execution_count": 11,
     "metadata": {},
     "output_type": "execute_result"
    }
   ],
   "source": [
    "df.Cuisines.unique()"
   ]
  },
  {
   "cell_type": "code",
   "execution_count": 12,
   "id": "584b179b",
   "metadata": {},
   "outputs": [
    {
     "name": "stdout",
     "output_type": "stream",
     "text": [
      "No.of.unique values : 1826\n",
      "unique values : ['French, Japanese, Desserts', 'Japanese', 'Seafood, Asian, Filipino, Indian', 'Japanese, Sushi', 'Japanese, Korean', 'Chinese', 'Asian, European', 'Seafood, Filipino, Asian, European', 'European, Asian, Indian', 'Filipino', 'Filipino, Mexican', 'American, Ice Cream, Desserts', 'Korean', 'Cafe, American, Italian, Filipino', 'Italian, Pizza', 'Cafe, Korean, Desserts', 'Cafe, Bakery, American, Italian', 'Seafood, American, Mediterranean, Japanese', 'American, Asian, Italian, Seafood', 'Fast Food, French', 'Cafe', 'Bakery', 'Brazilian', 'Pizza', 'Arabian', 'Brazilian, Cafe', 'Italian', 'Bar Food, Brazilian', 'Mexican, Grill', 'International', 'Peruvian, Latin American', 'American, Grill', 'Seafood', 'American, Burger', 'Seafood, Bar Food, Brazilian', 'Desserts, Cafe', 'Juices, Healthy Food', 'Beverages, Bar Food, Fast Food', 'Lebanese', 'Burger', 'Brazilian, Bar Food', 'Brazilian, Healthy Food, Juices, Pizza', 'Bakery, Sandwich, Brazilian', 'Brazilian, Seafood', 'Steak, BBQ', 'Indian', 'Beverages, International', 'French, Brazilian, Beverages', 'Brazilian, Grill', 'French', 'Sushi, Japanese', 'BBQ, Grill, Brazilian', 'Sushi', 'Gourmet Fast Food, Burger', 'Brazilian, Italian', 'Brazilian, Mineira', 'Brazilian, North Eastern', 'Brazilian, Bar Food, Beverages', 'Lebanese, Arabian', 'BBQ, Burger, Seafood', 'American, BBQ', nan, 'Mexican', 'Coffee and Tea, Sandwich', 'Fast Food', 'Asian, Chinese, Vegetarian', 'Pizza, Bar Food, Sandwich', 'Steak, Tapas, Bar Food', 'Chinese, Seafood, Vegetarian', 'American, Burger, Sandwich', 'American, Steak', 'Japanese, Steak, Sushi', 'Seafood, Tapas, Bar Food', 'American, Breakfast, Diner', 'Bar Food, Steak', 'American, Southern, Southwestern', 'Southern', 'Breakfast, Burger, Sandwich', 'Breakfast, Sandwich', 'American, Italian, Pizza', 'American', 'International, Southern, Vegetarian', 'Sandwich', 'Asian, Japanese, Sushi', 'Mexican, Spanish', 'International, Southern', 'Bar Food', 'Italian, Pizza, Sandwich', 'Burger, Bar Food', 'Desserts, Latin American, Argentine', 'Chinese, Steak', 'American, Caribbean, Seafood', 'International, Tapas, Vegetarian', 'Desserts, Sandwich, Southern', 'Breakfast, French', 'BBQ', 'Desserts, Italian, Pizza', 'Bar Food, Sandwich, Seafood', 'Mexican, Southwestern, Sushi', 'Steak', 'German', 'Vietnamese', 'Burger, Seafood', 'Thai', 'Modern Australian', 'Pizza, Bar Food', 'American, Bar Food', 'American, Seafood, Steak', 'European, Spanish', 'Latin American, Steak', 'Italian, Seafood, Vegetarian', 'Sushi, Thai', 'Japanese, Sushi, Teriyaki', 'Breakfast', 'American, BBQ, Steak', 'American, Mediterranean, Seafood', 'American, Breakfast, Burger', 'American, BBQ, Burger', 'Chinese, Sushi, Thai', 'Breakfast, Diner', 'American, International, Sushi', 'American, Breakfast', 'Mediterranean, Tapas, Vegetarian', 'Pizza, Sandwich', 'American, Breakfast, Desserts', 'Asian, Japanese', 'Asian, Vietnamese', 'American, Seafood, Cajun', 'Burger, Bar Food, Southern', 'Japanese, Steak', 'Breakfast, Diner, Southern', 'Japanese, Sushi, Thai', 'Seafood, Steak, Vegetarian', 'BBQ, Southern', 'American, Tapas', 'Asian, Chinese', 'Italian, Mediterranean, Pizza', 'Chinese, Canadian', 'American, BBQ, Southern', 'Desserts, Sandwich', 'Mexican, Tex-Mex', 'BBQ, Breakfast, Southern', 'American, Japanese, Sushi', 'American, Diner, Southern', 'Indian, Mediterranean, Middle Eastern', 'Sushi, Teriyaki', 'Burger, Pizza', 'American, Breakfast, Greek', 'Asian', 'American, French', 'American, Bar Food, BBQ', 'BBQ, Burger, Desserts', 'American, Coffee and Tea', 'BBQ, Caribbean, Cajun', 'Asian, Sushi, Thai', 'Latin American, Mexican', 'Chinese, Pizza', 'Asian, Vegetarian, Vietnamese, Bubble Tea', 'American, Pizza, Bar Food', 'Burger, Desserts, Vegetarian', 'American, Italian', 'Breakfast, Mexican, Southwestern', 'Latin American', 'Seafood, Sushi', 'Coffee and Tea, Tea, Modern Australian', 'American, BBQ, Seafood', 'Desserts, Pizza, Ice Cream', 'International, Pizza', 'Breakfast, Pizza', 'American, Burger, Pizza, Cafe', 'Tea, Modern Australian', 'Cafe, Australian', 'American, Sandwich, Seafood', 'American, Burger, Cajun', 'Chinese, Japanese, Thai', 'Bar Food, Seafood, Vegetarian', 'American, Southern', 'BBQ, Sandwich', 'Sandwich, Seafood, Cajun', 'American, European, Sandwich', 'German, Ice Cream', 'Burger, German, Sandwich', 'Cafe, Coffee and Tea, Modern Australian', 'Italian, Fusion, Cafe', 'Breakfast, Modern Australian', 'Burger, Coffee and Tea, Modern Australian', 'Breakfast, Coffee and Tea', 'Burger, Desserts, Sandwich', 'Coffee and Tea, Cuban, Latin American', 'Chinese, Thai', 'Burger, Desserts, Bar Food', 'American, Seafood', 'Desserts, Greek, Sandwich', 'European, Italian, Mediterranean', 'Greek, Mediterranean, Vegetarian', 'American, Chinese, Sushi', 'Pizza, Sandwich, Vegetarian', 'American, Greek, Seafood', 'Breakfast, Burger', 'Bar Food, Modern Australian', 'Coffee and Tea, Modern Australian', 'American, International, Southwestern', 'Spanish, Tapas', 'Hawaiian', 'American, Sandwich, Salad', 'Irish', 'New American, Tapas', 'Brazilian, Steak', 'Caribbean', 'Asian, Thai', 'Asian, Latin American, Vegetarian', 'American, Sandwich, Tea', 'American, BBQ, Sandwich', 'Cajun', 'Southern, Cajun, Soul Food', 'Mediterranean, Turkish', 'American, Breakfast, Vegetarian', 'Pub Food', 'Mediterranean, Seafood', 'Cafe, Coffee and Tea, Sandwich', 'Mexican, Southwestern, Tex-Mex', 'Burger, Bar Food, Steak', 'Italian, Pizza, Seafood', 'Tapas', 'Latin American, Mexican, Southwestern', 'European, International, Tapas', 'American, Seafood, Sushi', 'Caribbean, Seafood, Steak', 'Burger, Sandwich, Seafood', 'Caribbean, Seafood', 'Greek', 'Breakfast, Coffee and Tea, Modern Australian', 'Burger, Fast Food', 'American, Greek', 'Burger, Pizza, Sandwich', 'American, Pizza', 'Asian, Sushi, Vegetarian', 'Indian, International, Vegetarian', 'Desserts, Thai', 'New American', 'Indian, Persian', 'American, Hawaiian', 'Japanese, Seafood, Sushi', 'Asian, Breakfast, Hawaiian', 'Hawaiian, Seafood, Steak', 'Hawaiian, Seafood', 'American, Asian, Burger', 'Asian, European, Seafood', 'American, Breakfast, Hawaiian', 'Desserts, Sandwich, Ice Cream', 'International, Mediterranean, Sandwich', 'American, Bar Food, Sandwich', 'Breakfast, Vegetarian', 'Breakfast, Cajun', 'Breakfast, Diner, Sandwich', 'Coffee and Tea, Desserts', 'Pizza, Seafood, Steak', 'Cafe, Sandwich, Southern', 'American, Seafood, Southern', 'Chinese, Continental, Singaporean', 'French, Mediterranean, European', 'Italian, French, Bakery, Cafe', 'American, Japanese, Singaporean', 'Singaporean, Chinese, Seafood, Malay, Indian', 'Asian, Continental, Seafood', 'Chinese, Seafood, Cantonese, Dim Sum', 'Singaporean, Australian, German', 'Western, Fusion, Fast Food', 'American, Mexican', 'American, Bakery, European, Burger, Fusion', 'Finger Food', 'Cafe, Spanish, Turkish, Greek', 'Burger, Seafood, Steak', 'Asian, Vegetarian, Vietnamese', 'American, Desserts, Diner', 'American, Fast Food', 'Caribbean, Mexican, Cajun', 'Asian, Thai, Vegetarian', 'BBQ, Caribbean, Seafood', 'American, Italian, Seafood', 'British, Bar Food, Sandwich', 'American, Desserts, Steak', 'Breakfast, Spanish, Tapas', 'Italian, Deli', 'Sandwich, Seafood, Steak', 'European, German', 'Breakfast, Mexican', 'Desserts, Bar Food', 'International, Italian, Southern', 'Mexican, Vegetarian', 'Seafood, Steak', 'Cuban, Spanish', 'Modern Australian, Australian', 'Australian', 'Seafood, Southern', 'Asian, Chinese, Thai', 'Burger, Bar Food, Vegetarian', 'Fast Food, Seafood', 'Greek, Italian', 'Indian, Middle Eastern', 'Coffee and Tea, Mediterranean', 'Coffee and Tea, Tapas, Australian', 'Italian, Pizza, Vegetarian', 'Desserts', 'Coffee and Tea, Desserts, Beverages', 'Sandwich, Sushi, Tapas', 'Burger, Greek, Sandwich', 'Turkish, Arabian, Middle Eastern', 'Fast Food, Burger', 'Thai, Japanese, Chinese, Indonesian, Vietnamese', 'Indian, North Indian, Mughlai, Biryani', 'Indian, South Indian', 'Filipino, Japanese, Asian', 'American, Mexican, Seafood', 'Pakistani, Afghani, Indian, Hyderabadi', 'Lebanese, Arabian, Middle Eastern', 'Indian, North Indian, Chinese', 'Indian, North Indian', 'American, Desserts', 'Mediterranean, Italian, Thai, European', 'Indian, Rajasthani', 'International, Indian', 'Continental, Indian', 'Indian, Continental', 'Indian, North Indian, Street Food', 'Indian, Asian', 'Seafood, American', 'Cafe, Burger', 'American, Mexican, Burger', 'Goan, Chinese, Indian, North Indian', 'Indian, North Indian, South Indian, Chinese', 'South Indian', 'Indian, Mughlai, South Indian, Biryani', 'Fast Food, American', 'Pakistani, Indian', 'Pakistani, Indian, Mughlai', 'Pakistani, Chinese, Indian, Afghani', 'Fast Food, Pizza', 'Bakery, Arabian, Middle Eastern', 'Arabian, Middle Eastern', 'African, Portuguese', 'Cafe, Bakery, Desserts', 'North Indian, Mughlai', 'North Indian', 'Rajasthani', 'North Indian, Chinese, Mughlai', 'North Indian, European', 'Mughlai', 'Rajasthani, Gujarati, Mughlai', 'North Indian, Chinese, Continental', 'South Indian, Desserts', 'North Indian, Chinese, Continental, Mughlai', 'Cafe, North Indian, Chinese', 'Cafe, Italian, Mexican, North Indian, Continental', 'Chinese, Italian, Continental, North Indian', 'North Indian, Fast Food', 'Chinese, Italian, North Indian, Mexican, Mediterranean, Thai', 'Continental, Chinese, North Indian', 'Ice Cream, Desserts, Continental', 'North Indian, Continental, Mexican, Italian', 'Pizza, Italian, Beverages, Desserts', 'Pizza, Italian', 'Cafe, Continental, Desserts', 'North Indian, Cafe, Italian, Mexican, Continental', 'North Indian, South Indian, Asian, Continental', 'Desserts, Ice Cream', 'Fast Food, Street Food, South Indian', 'North Indian, Chinese, Continental, Desserts, Fast Food, Sandwich', 'Italian, Fast Food', 'Cafe, Beverages, Desserts, Pizza', 'Cafe, Italian', 'North Indian, Continental, Beverages, Italian, Burger, Healthy Food, Mediterranean', 'Continental, Italian, Chinese', 'North Indian, Italian, Asian, South Indian', 'Cafe, American, Continental, Armenian, Fast Food', 'Continental', 'North Indian, South Indian, Fast Food', 'Cafe, Fast Food', 'North Indian, Street Food, Fast Food', 'North Indian, Chinese', 'North Indian, South Indian, Chinese', 'Fast Food, American, Salad, Healthy Food', 'North Indian, Chinese, Italian', 'South Indian, Chinese', 'Continental, Italian', 'Desserts, Fast Food', 'South Indian, North Indian, Chinese, Continental', 'Mughlai, North Indian, Chinese', 'Beverages', 'Street Food', 'Cafe, Bakery, Fast Food', 'North Indian, Mughlai, Chinese', 'Fast Food, Italian', 'North Indian, Street Food', 'North Indian, South Indian, Chinese, Fast Food', 'Mithai', 'North Indian, Chinese, Continental, Italian', 'Italian, Continental, Chinese, North Indian', 'North Indian, South Indian', 'South Indian, North Indian, Chinese, Fast Food', 'North Indian, Chinese, Continental, Italian, Mexican', 'Italian, Fast Food, North Indian, Chinese', 'Continental, Chinese, Biryani, North Indian', 'Juices, Desserts', 'South Indian, Chinese, North Indian', 'Mughlai, Biryani', 'Maharashtrian', 'Cafe, Mughlai, North Indian', 'North Indian, Chinese, South Indian, Fast Food', 'North Indian, Hyderabadi', 'Italian, American, Pizza', 'European, Continental', 'Modern Indian', 'Bakery, Desserts, Cafe', 'Pizza, Cafe, Italian', 'Continental, American, Italian, North Indian, Chinese, Cafe', 'American, Burger, Cafe', 'North Indian, European, Mediterranean', 'North Indian, Chinese, Italian, Street Food, Desserts', 'Continental, American', 'European, Mediterranean, North Indian', 'Asian, Mediterranean, North Indian', 'Finger Food, North Indian, Italian, Continental, Thai, South Indian', 'Continental, Italian, North Indian', 'Cafe, Chinese, North Indian', 'Pizza, Italian, Fast Food', 'Fast Food, Mexican, Tex-Mex', 'North Indian, South Indian, Street Food, Bakery', 'Italian, Mexican, Chinese', 'Mediterranean, Asian, Continental, North Indian, Arabian', 'Cafe, Charcoal Grill, Steak', 'Fast Food, North Indian, Chinese', 'North Indian, Asian, European', 'Cafe, Italian, Mexican, Bakery', 'North Indian, Chinese, Mexican, Beverages', 'Chinese, North Indian, Cafe', 'Mughlai, Chinese, North Indian', 'Cafe, Chinese, Fast Food, Seafood', 'Italian, Cafe, Chinese, Continental', 'North Indian, Rajasthani', 'Cafe, Tea', 'Chinese, North Indian', 'Asian, Continental', 'North Indian, Chinese, Continental, Pizza', 'American, Cafe', 'Mexican, American, Italian', 'Japanese, Chinese, Thai, Malaysian, Burmese, Asian', 'Continental, Italian, Thai, Finger Food', 'North Indian, Continental, Asian', 'American, Tex-Mex', 'North Indian, Chinese, Continental, Italian, Burger', 'Cafe, Bakery', 'Burger, Fast Food, Desserts, Beverages', 'Mexican, Fast Food', 'Mughlai, North Indian', 'Desserts, American', 'European, Italian, Desserts', 'North Indian, Chinese, Arabian', 'Continental, Cafe, Italian, Desserts', 'North Indian, Mughlai, Chinese, South Indian', 'Mexican, American, Tex-Mex, Burger', 'Cafe, European', 'Cafe, Continental', 'Italian, Mexican, Chinese, Thai, North Indian', 'South Indian, Chettinad', 'Biryani, North Indian', 'European, Cafe, Italian', 'Continental, Cafe, Spanish, Italian, European, Greek, Mediterranean', 'North Indian, Continental', 'North Indian, Mediterranean, Asian, Arabian', 'Cafe, Continental, Fast Food', 'South Indian, Chettinad, North Indian', 'Continental, Fast Food, Desserts, Indian', 'South Indian, Biryani', 'Continental, Chinese, Thai, Malaysian, North Indian', 'Parsi, North Indian', 'North Indian, Chinese, Italian, Mexican', 'Italian, North Indian, Desserts', 'South Indian, North Indian, Chinese', 'North Indian, Biryani', 'Bakery, Desserts', 'North Indian, Chinese, Street Food', 'Desserts, North Indian, Chinese, South Indian, Fast Food, Street Food', 'Chinese, Thai, Tibetan', 'Chinese, North Indian, Fast Food', 'Cafe, Chinese', 'Burger, Desserts', 'North Indian, Mediterranean, Asian, Chinese', 'Cafe, Chinese, Fast Food', 'Cafe, Mexican', 'Chinese, Fast Food, Bakery', 'Fast Food, North Indian', 'Raw Meats, North Indian, Fast Food', 'Fast Food, Chinese', 'North Indian, South Indian, Gujarati, Rajasthani', 'Burger, Desserts, Fast Food', 'Cafe, Desserts', 'American, Fast Food, Salad, Healthy Food', 'American, Fast Food, Burger', 'Ice Cream, Desserts', 'Fast Food, Beverages', 'Fast Food, Chinese, Italian', 'North Indian, South Indian, Chinese, Fast Food, Mithai', 'North Indian, Chinese, Fast Food', 'North Indian, South Indian, Fast Food, Street Food, Mithai', 'Chinese, Fast Food', 'Fast Food, Desserts, Ice Cream, Beverages', 'Cafe, North Indian, Chinese, Continental', 'Bakery, Fast Food', 'Cafe, American, Mexican, Italian, Thai', 'Raw Meats, North Indian, Chinese, Fast Food', 'Juices, Beverages', 'Fast Food, Bakery', 'Cafe, Italian, Mexican, Continental', 'Ice Cream', 'Mithai, Street Food', 'Street Food, South Indian, Mithai', 'Mithai, North Indian', 'Ice Cream, Desserts, Beverages', 'Street Food, Fast Food', 'North Indian, Seafood', 'Cafe, Italian, Salad', 'North Indian, Chinese, Italian, Fast Food', 'Mithai, North Indian, South Indian, Chinese, Fast Food', 'Mithai, Street Food, Fast Food', 'Raw Meats, Fast Food', 'Biryani', 'Italian, North Indian', 'Pizza, Fast Food', 'Mithai, South Indian, Chinese, Street Food', 'Raw Meats, Fast Food, North Indian', 'Mithai, Bakery, Street Food, Chinese, South Indian', 'North Indian, Chinese, Raw Meats', 'Mithai, Street Food, Chinese', 'North Indian, Chinese, South Indian', 'Fast Food, Chinese, Burger', 'Mediterranean', 'North Indian, Mughlai, Continental', 'North Indian, Continental, Chinese', 'Fast Food, Cafe, Desserts, Bakery', 'North Indian, South Indian, Chinese, Street Food, Fast Food, Mithai, Desserts', 'Italian, French, Cafe', 'Continental, North Indian, Italian, Seafood, Goan', 'Seafood, French', 'North Indian, Chinese, Continental, Goan, Seafood', 'North Indian, Continental, Chinese, Seafood', 'North Indian, Continental, Goan', 'Goan, Seafood, Chinese, North Indian', 'Italian, Continental, Goan', 'Goan, North Indian, Chinese', 'Goan, Seafood, Chinese', 'Continental, Goan, Seafood, North Indian', 'Goan, Seafood, North Indian', 'Seafood, Continental, European, German', 'Cafe, Beverages', 'South Indian, Seafood, Kerala', 'Japanese, Thai, Chinese', 'Pizza, Desserts', 'South Indian, Chinese, Mughlai', 'Raw Meats', 'South Indian, Street Food', 'North Indian, Mughlai, Seafood', 'Italian, Pizza, Lebanese', 'Chinese, Thai, North Indian, Japanese', 'North Indian, Asian, Continental', 'Continental, North Indian, Chinese', 'Chinese, Italian, North Indian', 'North Indian, Chinese, Italian, Continental', 'Chinese, North Indian, Italian', 'Cafe, Belgian', 'Kashmiri', 'Finger Food, Continental, Italian', 'North Indian, Mughlai, Chinese, Seafood', 'Chinese, Thai, Sushi', 'Continental, North Indian, Chinese, Italian', 'Mediterranean, Continental', 'Continental, European, Asian, North Indian, Chinese, Italian', 'South American', 'Asian, Burmese', 'Persian, Arabian, Lebanese, North Indian', 'Chinese, Japanese, Sushi', 'Cafe, Italian, Pizza', 'Tea, Fast Food', 'Steak, American', 'Desserts, Beverages', 'Bengali, Seafood', 'Mediterranean, Italian, European', 'Healthy Food, Salad', 'Chinese, Japanese, Thai, Asian', 'North Indian, Thai, Continental', 'Mediterranean, European, American, North Indian', 'Bakery, Cafe', 'Italian, European', 'Continental, American, Italian, Seafood, North Indian, Cafe', 'Continental, American, Asian, North Indian', 'Mediterranean, Mexican, North Indian, American', 'Portuguese, African', 'American, Italian, Chinese', 'Parsi, Iranian', 'Street Food, Fast Food, North Indian', 'Bakery, Desserts, Fast Food', 'Cafe, Italian, Fast Food', 'Continental, North Indian', 'Beverages, Salad', 'Finger Food, North Indian, Italian, European, Continental', 'Italian, Pizza, Fast Food', 'Bakery, Desserts, Beverages', 'North Indian, Continental, Chinese, Japanese, Italian, Thai', 'Burmese, Chinese, Thai', 'Beverages, Juices', 'Chinese, Mexican, Fast Food, Continental', 'North Indian, Mughlai, Fast Food', 'Continental, Fast Food', 'Continental, Italian, Pizza, Asian', 'Chinese, Thai, Asian, Malaysian, Vietnamese, Japanese', 'Biryani, Mughlai', 'Street Food, Chinese, North Indian', 'Healthy Food', 'Fast Food, North Indian, Beverages', 'Mithai, Street Food, North Indian', 'Fast Food, Street Food, Beverages', 'Cafe, Street Food', 'South Indian, North Indian', 'Street Food, Mithai', 'North Indian, Greek, Mughlai', 'North Indian, Biryani, Fast Food, Chinese', 'Chinese, North Indian, South Indian', 'Mexican, American, Healthy Food', 'Burger, Fast Food, Chinese', 'Biryani, North Indian, Mughlai', 'Italian, Lebanese, Fast Food, Bakery', 'Mediterranean, Mughlai, Thai, North Indian, Chinese', 'Continental, North Indian, Asian', 'Healthy Food, Juices, Salad, Italian, Continental', 'Beverages, Salad, Beverages', 'Healthy Food, North Indian, Continental', 'Juices, Beverages, Healthy Food', 'Biryani, Lucknowi, North Indian', 'Japanese, Tibetan, Vietnamese, Korean', 'Continental, Burger, American', 'North Indian, Mughlai, Biryani', 'Awadhi, North Indian, Mughlai', 'Asian, Chinese, North Indian', 'Healthy Food, European, Continental, Salad', 'Burger, American, Fast Food', 'Cafe, Continental, Italian, Pizza', 'Chinese, Asian, Thai', 'Fast Food, Italian, Pizza', 'Chinese, Thai, Asian', 'North Indian, Mithai, Chinese, Street Food', 'Italian, Mexican, Cafe', 'Greek, Mediterranean', 'American, European, North Indian', 'North Indian, Street Food, Beverages', 'Continental, North Indian, European, Finger Food', 'Cafe, Italian, European, Bakery', 'Continental, American, Italian', 'Cafe, Italian, Bakery', 'European, Italian', 'Bengali', 'North Indian, Italian, Mexican', 'Finger Food, American, Continental, North Indian, Italian', 'Korean, Japanese, Chinese, Asian', 'Continental, Finger Food, Chinese, North Indian', 'Mughlai, Hyderabadi', 'Chinese, North Indian, Italian, Continental', 'American, Continental, Burger', 'North Indian, Chinese, Thai', 'Japanese, Chinese, Asian, Malaysian, Thai, Vietnamese', 'Healthy Food, Continental', 'Burmese, Chinese, Japanese, Malaysian, Thai', 'North Indian, Continental, Italian', 'Seafood, Mediterranean', 'Tibetan, Nepalese', 'Kashmiri, Mughlai', 'Pizza, Mexican, Chinese, Italian', 'Continental, Healthy Food', 'North Indian, South Indian, Street Food, Mithai', 'Drinks Only', 'Fast Food, Street Food', 'North Indian, American, Italian', 'Asian, Bakery', 'Lucknowi', 'North Indian, Finger Food', 'Fast Food, Chinese, Bengali', 'Chinese, Thai, Japanese, Tibetan', 'Continental, Italian, Mexican', 'Continental, North Indian, Mughlai, Chinese', 'Arabian, Lebanese', 'Chinese, Asian', 'Mughlai, Pakistani, North Indian', 'Italian, Chinese, Continental, Thai, Mediterranean, Lebanese', 'American, Seafood, Italian, Japanese, Thai', 'Chinese, North Indian, South Indian, Street Food', 'Continental, Asian, North Indian, Italian', 'Finger Food, Continental, North Indian, Italian, Chinese', 'North Indian, Continental, Mughlai, Asian', 'Cafe, American, Desserts, Italian, Bakery', 'Gujarati, Rajasthani', 'Street Food, North Indian', 'North Indian, Mughlai, South Indian, Rajasthani, Street Food', 'European, American, Street Food', 'Continental, European, North Indian', 'Cafe, North Indian', 'Lebanese, North Indian', 'North Indian, Mughlai, South Indian, Chinese', 'Mughlai, Chinese', 'Bakery, Mithai, Fast Food', 'North Indian, Chinese, Street Food, Fast Food', 'Bakery, Fast Food, Chinese', 'Italian, Pizza, Cafe', 'Healthy Food, Beverages', 'Japanese, Chinese, Thai', 'Street Food, North Indian, Mithai', 'Bakery, Street Food', 'Street Food, Mithai, South Indian, North Indian, Chinese', 'Continental, Chinese, North Indian, Mughlai', 'North Indian, Mughlai, South Indian', 'North Indian, Street Food, Mithai', 'North Indian, Mughlai, Awadhi', 'Continental, Finger Food', 'Continental, American, North Indian, Chinese', 'Korean, Chinese', 'Bakery, Beverages', 'Healthy Food, North Indian, Beverages', 'North Eastern, Continental, South Indian, Fast Food', 'Chinese, Street Food', 'North Indian, Chinese, Fast Food, Desserts', 'Street Food, Bakery', 'Mexican, Lebanese, Italian, Continental, Thai', 'Beverages, Fast Food', 'Mithai, South Indian, Chinese, Street Food, North Indian', 'Chinese, Mughlai, North Indian', 'Street Food, Mithai, North Indian, South Indian, Chinese', 'Oriya', 'Bakery, Chinese, North Indian', 'Biryani, Pizza, Fast Food, Healthy Food', 'Raw Meats, North Indian, Chinese', 'Italian, Mexican', 'Hyderabadi, North Indian, Biryani', 'Chinese, Fast Food, North Indian', 'Tea', 'North Indian, American, Asian, Biryani', 'Modern Indian, North Indian', 'North Indian, Mughlai, Asian, Continental', 'Continental, Italian, North Indian, American', 'Mithai, North Indian, South Indian, Fast Food, Street Food, Chinese', 'Chinese, North Indian, Mughlai, Continental', 'Mexican, Italian, North Indian, Chinese', 'Continental, Chinese, Thai, Mughlai, North Indian', 'Continental, North Indian, Chinese, European, Asian', 'North Indian, Chinese, Continental, Thai', 'North Indian, Chinese, South Indian, Seafood, Chettinad', 'Continental, Burger, Pizza, North Indian, European, Finger Food', 'Portuguese, African, Lebanese', 'North Indian, Italian, Chinese, American', 'Chinese, Continental, North Indian, Mexican', 'Asian, Seafood', 'Bihari, Lucknowi, North Indian', 'Asian, Thai, Chinese', 'Continental, North Indian, Italian, Chinese', 'Continental, Italian, North Indian, Mughlai', 'North Indian, Italian, Parsi, Asian, Kerala', 'Healthy Food, Cafe, Desserts, Italian, Bakery', 'North Indian, Asian, Italian', 'North Indian, Biryani, Chinese', 'Chinese, Tibetan', 'Asian, Continental, Fast Food', 'Healthy Food, Salad, Italian, Continental', 'Biryani, North Indian, Hyderabadi', 'Afghani', 'Afghani, North Indian', 'North Indian, Mithai, Chinese', 'Mithai, North Indian, South Indian, Chinese', 'Bengali, North Indian', 'North Indian, Fast Food, South Indian', 'Chinese, North Indian, Mughlai', 'Lebanese, Mediterranean, Middle Eastern, Arabian', 'Chinese, North Indian, South Indian, Healthy Food', 'North Indian, South Indian, Chinese, Healthy Food, Bakery', 'Cafe, Fast Food, Chinese', 'Mithai, North Indian, Chinese, Street Food', 'North Indian, Mithai, Street Food', 'Chinese, Seafood, Japanese', 'Healthy Food, Continental, North Indian, Salad', 'Healthy Food, North Indian', 'Bakery, Desserts, North Indian, Bengali, South Indian', 'Finger Food, North Indian, Chinese', 'Juices', 'North Indian, South Indian, Fast Food, Street Food, Chinese, Beverages, Desserts, Mithai', 'Chinese, Thai, Malaysian, Indonesian', 'Goan', 'North Indian, Rajasthani, Asian', 'Bengali, Fast Food', 'Healthy Food, North Indian, Italian, Salad', 'South Indian, Desserts, Beverages', 'Goan, American, Portuguese', 'Healthy Food, Continental, Juices, Beverages, Italian, Salad, Lebanese', 'Cafe, Pizza, Burger', 'South Indian, Kerala', 'Mughlai, Lucknowi, Awadhi', 'Chinese, North Indian, Continental, Mexican', 'North Indian, Asian', 'Japanese, Thai, Italian, Asian', 'Italian, Burger, Charcoal Grill', 'Bakery, Desserts, Bakery', 'Chinese, Continental, North Indian', 'Cafe, Fast Food, Street Food', 'Healthy Food, Fast Food, Salad', 'Desserts, Bakery', 'North Indian, Mediterranean, European, Asian, Chinese, Pizza', 'Thai, Asian', 'Mithai, Bakery, Street Food', 'Chinese, Assamese', 'Mithai, Street Food, South Indian, Chinese, North Indian', 'North Indian, Continental, Italian, Chinese', 'Continental, European', 'Chinese, Thai, Japanese, Asian', 'Cafe, North Indian, Italian', 'Cafe, Continental, Chinese', 'Cafe, American, Italian, Continental', 'Continental, Juices, Cafe, Desserts, Salad, Italian', 'Asian, Chinese, Tibetan', 'Continental, Fast Food, Chinese, Charcoal Grill, Mexican', 'Continental, North Indian, Chinese, Arabian, Thai', 'Continental, Chinese', 'Seafood, Continental, Goan, Asian, Andhra', 'North Indian, Japanese, Italian', 'Continental, Asian', 'Italian, Continental, Chinese', 'North Indian, Andhra, Chettinad, Bengali, Mughlai, Chinese', 'Cafe, Continental, North Indian, Chinese', 'Desserts, Cafe, Mexican', 'Hyderabadi, Awadhi', 'North Indian, Chinese, Continental, Mediterranean, Asian', 'Italian, Continental', 'Cafe, Fast Food, Italian, Mexican', 'Greek, Lebanese', 'Cafe, Lebanese, Italian', 'Mexican, Italian', 'Cafe, Italian, Mexican, Chinese', 'Bakery, Cafe, Fast Food', 'Cafe, Continental, Italian, Street Food', 'North Indian, European, Continental, Finger Food', 'Italian, Chinese, Mexican, Thai, North Indian', 'Cafe, Italian, Continental', 'Italian, Continental, Mexican, Cafe, Bakery', 'Continental, Italian, North Indian, Lebanese, Thai', 'Modern Indian, Asian', 'Cafe, Italian, Japanese, Continental', 'Continental, Mexican, Beverages, Desserts, North Indian, Chinese, Rajasthani', 'North Indian, Chinese, Continental, Rajasthani', 'Italian, Bakery, Continental', 'Cafe, Mexican, Italian, North Indian, Fast Food', 'Cafe, Mexican, Italian, Continental', 'North Indian, Continental, Chinese, Italian, Mexican', 'North Indian, Continental, Chinese, Mexican, Italian, Desserts', 'Cafe, Fast Food, North Indian', 'Continental, Mexican, North Indian, Chinese', 'Finger Food, North Indian, Continental, Italian, Mediterranean', 'Indian, Chinese, Continental', 'Cafe, Continental, Desserts, Ice Cream, Italian, Beverages', 'North Indian, Mexican, Italian', 'Chinese, North Indian, Continental', 'Chinese, Italian, Fast Food', 'North Indian, Mughlai, Lebanese, Arabian, Mediterranean', 'Kerala', 'European, Cafe', 'North Indian, Kerala, Chinese, Continental', 'European, North Indian, Mediterranean, American', 'Chinese, Continental', 'Fast Food, Biryani', 'Chinese, Thai, North Indian, South Indian', 'Kerala, Fast Food', 'Cafe, Continental, Italian', 'Kerala, South Indian, Continental, North Indian, Seafood, Chinese', 'Chinese, Seafood, North Indian, Biryani', 'Kerala, South Indian, Chinese, Biryani', 'Italian, Seafood, Mediterranean, Desserts, Cafe', 'Continental, Cafe, Desserts, Bakery', 'Kerala, South Indian', 'Italian, Mexican, American, Mediterranean', 'Continental, Middle Eastern, Asian', 'Chinese, Cafe, North Indian, Desserts', 'North Indian, Chinese, Mexican, Italian', 'Tex-Mex, American', 'Seafood, Chinese', 'Biryani, North Indian, Chinese, Mughlai', 'European, American', 'Continental, Seafood, North Indian, Asian', 'Cafe, Chinese, Continental', 'Mughlai, Lucknowi', 'Cafe, Italian, Desserts', 'European', 'Mediterranean, Italian, American', 'Italian, American, Lebanese', 'Cafe, Chinese, Thai, North Indian, Continental', 'North Indian, Mughlai, Chinese, Continental', 'North Indian, Continental, South Indian, Chinese, Thai, Asian', 'Italian, Continental, North Indian, Cafe', 'Italian, Continental, Mexican, Lebanese', 'Mediterranean, Chinese, Continental', 'Cafe, Continental, Italian, Bakery', 'Continental, Chinese, Italian, Bakery', 'European, Chinese', 'Chinese, Mangalorean', 'Finger Food, Continental, North Indian', 'Seafood, North Indian', 'Chinese, Continental, North Indian, Mughlai', 'North Indian, Mughlai, Chinese, Mangalorean', 'North Indian, Italian, Finger Food', 'Healthy Food, American, Burger, Salad', 'North Indian, Italian, Chinese, Mexican', 'Fast Food, Beverages, Desserts', 'Cafe, Italian, Desserts, Fast Food, Chinese, Tea', 'Cafe, Continental, North Indian, Italian, Chinese, Bakery, Desserts, Finger Food', 'American, Burger, Fast Food', 'Italian, Continental, Mexican, Japanese, American, British', 'North Indian, South Indian, Mughlai', 'Street Food, Burger, Desserts, Italian, Pizza, North Indian, European, Finger Food', 'Andhra', 'North Indian, Andhra, Mughlai', 'Italian, North Indian, South Indian', 'Continental, North Indian, South Indian', 'Cafe, Continental, European, Beverages', 'Continental, South Indian', 'Continental, Fast Food, Tea', 'Cafe, Chinese, Fast Food, Italian', 'Continental, North Indian, Thai, Chinese', 'North Indian, Italian, Continental', 'Seafood, Chinese, Thai', 'North Indian, Maharashtrian', 'North Indian, European, Mediterranean, Asian', 'Malwani, North Indian, Chinese, Seafood', 'Cuisine Varies', 'North Indian, Seafood, Continental', 'Mediterranean, Italian', 'Continental, Seafood, Goan, Andhra, Kerala, Thai', 'Parsi', 'Continental, North Indian, Fast Food, Street Food, South Indian', 'Mithai, North Indian, South Indian, Street Food', 'Chinese, North Indian, Italian, Mughlai', 'Street Food, Fast Food, Beverages', 'Chinese, North Indian, Mughlai, Pizza', 'Turkish', 'Chinese, Japanese, Thai, Malaysian, Vietnamese, Asian', 'North Indian, Street Food, Mughlai', 'Seafood, South Indian, Andhra, Hyderabadi, Goan', 'Chinese, Fast Food, North Indian, South Indian', 'Italian, Continental, Cafe', 'Fast Food, North Indian, Chinese, Desserts', 'Cafe, North Indian, Fast Food', 'Chinese, South Indian', 'Bakery, Desserts, Fast Food, Pizza, Burger, Continental', 'Desserts, Bakery, Pizza, Burger, Continental', 'Bakery, Desserts, Fast Food, Mithai', 'Chinese, South Indian, North Indian', 'Continental, Asian, North Indian', 'Malaysian, Indonesian', 'Japanese, Asian', 'Continental, North Indian, Mughlai, Italian', 'North Indian, South Indian, Chinese, Mithai, Fast Food', 'Bakery, Desserts, Chinese, Fast Food', 'Fast Food, Chinese, Bakery', 'Bakery, Chinese', 'Street Food, Chinese, North Indian, Mithai', 'North Indian, Mughlai, Chinese, Italian', 'Pizza, Fast Food, Chinese', 'North Indian, South Indian, Street Food', 'Fast Food, Italian, Chinese', 'North Indian, South Indian, Chinese, Street Food, Mithai', 'Bakery, Mithai', 'North Indian, Street Food, Chinese, South Indian, Mithai', 'Bengali, North Indian, Chinese', 'Lebanese, Arabian, Moroccan', 'Japanese, Chinese, Malaysian, Thai, Vietnamese', 'Chinese, Thai, North Indian', 'Fast Food, North Indian, Desserts, Ice Cream', 'Bakery, Italian, Fast Food, Chinese, Continental', 'Chinese, North Indian, Seafood', 'Kashmiri, North Indian', 'Cafe, Healthy Food, North Indian', 'South Indian, Chettinad, North Indian, Chinese', 'Gujarati, South Indian, North Indian', 'Assamese, Chinese', 'North Eastern', 'South Indian, Chinese, Fast Food', 'Mithai, Fast Food', 'North Indian, South Indian, Fast Food, Street Food, Chinese, Desserts, Mithai', 'North Indian, Fast Food, Chinese, South Indian', 'North Indian, Street Food, Chinese, South Indian', 'Beverages, Street Food', 'Street Food, North Indian, South Indian, Mithai', 'Ice Cream, Mithai, North Indian, Street Food', 'Mughlai, Street Food', 'Desserts, Street Food', 'Street Food, Beverages', 'Mithai, Bakery', 'North Indian, Mughlai, Fast Food, South Indian', 'Mughlai, North Indian, Bengali, Continental', 'North Indian, Chinese, Biryani', 'North Indian, Kashmiri', 'Continental, American, Fast Food', 'North Indian, Mughlai, Biryani, Bengali', 'North Indian, Italian, Fast Food', 'Gujarati', 'Chinese, Japanese, Korean, Asian', 'Chinese, North Indian, Street Food', 'Italian, Tex-Mex, Continental, North Indian', 'North Indian, Lucknowi', 'Finger Food, Continental, North Indian, Chinese', 'Continental, Italian, Asian, Indian', 'Continental, Mexican, American, Italian, North Indian', 'Burger, Juices, Finger Food', 'North Indian, Chinese, Italian, Mediterranean', 'Pizza, Italian, Cafe', 'Asian, Japanese, Chinese, Thai', 'North Indian, Continental, European', 'North Indian, Mexican, Italian, Continental', 'Street Food, North Indian, South Indian, Chinese, Mithai', 'North Indian, Continental, Chinese, Italian, Thai, Mughlai', 'North Indian, Italian, Mexican, Chettinad, Chinese, Lebanese', 'Goan, Seafood', 'Cafe, North Indian, Italian, Japanese, Fast Food', 'European, Chinese, North Indian, Italian', 'Arabian, Mexican', 'Bengali, South Indian, North Indian, Mughlai', 'North Indian, Chinese, Mughlai, Italian', 'Finger Food, European, North Indian', 'Continental, American, Tex-Mex, North Indian', 'Finger Food, North Indian, Continental, Italian', 'North Indian, Continental, Finger Food', 'Finger Food, North Indian, Italian', 'Italian, Mediterranean, Continental, North Indian', 'North Indian, Mediterranean, Asian', 'North Indian, Continental, Fast Food', 'North Indian, Mediterranean, Asian, Continental', 'American, Continental, Italian, North Indian, Asian', 'Chinese, Japanese, Italian, Seafood', 'North Indian, Italian, Asian, American', 'Biryani, Hyderabadi', 'North Indian, Chinese, Italian, American, Middle Eastern', 'Continental, North Indian, Chinese, Mediterranean', 'Healthy Food, Continental, Italian', 'North Indian, Mediterranean, Asian, Fast Food', 'Continental, Mediterranean, Italian, North Indian', 'Fast Food, American, Burger', 'Italian, Mexican, Continental, North Indian, Finger Food', 'Asian, North Indian', 'Continental, Mexican, Burger, American, Pizza, Tex-Mex', 'North Indian, Afghani, Mughlai', 'Continental, North Indian, Italian, Asian', 'North Indian, European, Asian, Mediterranean', 'Bakery, Fast Food, Desserts', 'Italian, North Indian, Continental', 'North Indian, Chinese, Finger Food', 'North Indian, Chinese, Fast Food, South Indian', 'Chinese, Japanese', 'North Indian, Bengali', 'Cafe, Italian, Chinese', 'Mughlai, Fast Food', 'Fast Food, Turkish', 'North Indian, Continental, Chinese, Italian', 'North Indian, Mughlai, Kashmiri', 'Seafood, Continental, European', 'Italian, French', 'Cafe, Healthy Food, Continental', 'Continental, Asian, Sushi', 'North Indian, Hyderabadi, Kashmiri, Chinese', 'South Indian, Chinese, Continental', 'North Indian, South Indian, Chinese, Street Food, Fast Food', 'North Indian, Fast Food, Chinese', 'Chinese, Beverages', 'Cafe, Continental, Chinese, Italian', 'North Indian, Chinese, Cafe', 'North Indian, Continental, Chinese, Italian, Lebanese', 'Chinese, North Indian, Fast Food, Italian', 'Cafe, Chinese, Italian', 'Cafe, Fast Food, Italian, Chinese', 'Italian, Pizza, Bakery', 'Cafe, Mexican, American, Italian, Lebanese, Continental', 'Cafe, Italian, Continental, Chinese', 'Rajasthani, North Indian', 'Bihari', 'Desserts, Ice Cream, North Indian', 'Chinese, Naga', 'Fast Food, North Indian, South Indian, Chinese', 'Mexican, North Indian, European, Chinese, Italian', 'Thai, Chinese, Asian, Malaysian', 'Middle Eastern, Mediterranean, North Indian', 'Lebanese, Mediterranean, Arabian', 'Bakery, Italian, Chinese, Mexican', 'Italian, Continental, European, Cafe', 'American, Fast Food, Desserts', 'Chinese, Seafood', 'North Indian, Indian', 'North Indian, Italian, Chinese, Fast Food', 'Afghani, Mughlai, Chinese', 'North Indian, Mithai', 'Awadhi, Mughlai, North Indian', 'Street Food, Chinese', 'Chinese, Lucknowi', 'Fast Food, Cafe', 'Chinese, Cafe, Fast Food', 'Continental, Chinese, North Indian, Healthy Food', 'Chinese, Thai, Seafood', 'North Indian, Fast Food, Mughlai', 'Healthy Food, Fast Food', 'North Indian, Rajasthani, Gujarati', 'European, Italian, North Indian', 'Finger Food, Italian, North Indian', 'Continental, North Indian, Italian', 'North Indian, Chinese, Continental, Seafood', 'Mediterranean, Continental, Italian', 'South Indian, Andhra', 'Ice Cream, Fast Food, Beverages', 'Seafood, Mughlai, North Indian', 'European, Sushi, Italian', 'Chinese, South Indian, Fast Food', 'North Indian, Fast Food, Continental', 'Kashmiri, Chinese, Mughlai', 'Chinese, Healthy Food', 'Burger, American, Fast Food, Italian, Pizza', 'Cafe, Italian, Lebanese', 'North Indian, Continental, Italian, Finger Food', 'Fast Food, American, Italian', 'Mexican, Italian, American', 'British, Chinese, Italian', 'American, Mexican, Finger Food', 'Continental, Chinese, Thai', 'European, Asian, North Indian, Italian, Continental, Pizza', 'Nepalese', 'Chinese, Thai, Japanese', 'Cafe, Italian, Continental, Fast Food', 'Cafe, Fast Food, Continental', 'Bakery, Desserts, Ice Cream', 'North Indian, Italian, Chinese', 'Chinese, Thai, Fast Food', 'American, Italian, Mughlai, North Indian', 'Healthy Food, Continental, Juices, Salad', 'Lebanese, Chinese, Fast Food', 'Turkish, Mediterranean, Middle Eastern', 'North Indian, Mediterranean, Continental', 'South Indian, North Indian, Street Food, Chinese, Mithai', 'Chinese, Seafood, Thai', 'South Indian, North Indian, Chinese, Fast Food, Street Food, Mithai', 'Chinese, Thai, Seafood, Naga', 'Thai, Chinese', 'Healthy Food, Juices, Salad', 'Cafe, Fast Food, Italian', 'Mithai, Street Food, North Indian, South Indian, Chinese, Fast Food, Beverages', 'Beverages, Desserts', 'North Indian, Biryani, Mughlai', 'Naga', 'Continental, Cafe', 'North Indian, Continental, Asian, Italian', 'Cafe, Mexican, Continental', 'North Indian, Italian, Continental, Chinese', 'Continental, Kerala', 'Continental, American, Italian, Bakery', 'Continental, Asian, Italian, Mediterranean, Burger', 'American, Continental, North Indian, Chinese', 'Mediterranean, Italian, Continental, Spanish, North Indian', 'Continental, Tex-Mex', 'North Indian, Chinese, Thai, Italian, Middle Eastern', 'American, North Indian, European, Asian', 'American, British, Continental', 'European, Italian, Cafe', 'Continental, Chinese, Thai, Mediterranean', 'Japanese, Chinese, Asian, Thai', 'North Indian, Kashmiri, Chinese, Thai, Korean', 'North Indian, Continental, South Indian, Chinese', 'Continental, Chinese, Japanese, North Indian, Thai', 'Seafood, Chinese, Japanese, Sushi, Thai', 'Finger Food, Italian', 'Cafe, Continental, North Indian', 'Japanese, Thai, Sushi', 'Kerala, Biryani', 'South Indian, North Indian, Chinese, Mughlai', 'Fast Food, Desserts', 'Mithai, South Indian, Street Food', 'Bakery, Healthy Food', 'North Indian, Chinese, South Indian, Street Food, Mithai', 'Asian, Japanese, Korean, Thai, Chinese', 'Hyderabadi', 'Chinese, Mexican, Italian', 'Chinese, Mithai', 'North Indian, South Indian, Chinese, Street Food', 'North Indian, South Indian, Street Food, Fast Food, Mithai', 'Chinese, Mughlai', 'North Indian, Chinese, Continental, Fast Food', 'North Indian, Fast Food, Italian, Asian', 'Chinese, North Indian, Thai', 'Italian, Chinese, Fast Food, North Indian', 'Mughlai, Afghani', 'North Indian, Afghani', 'South Indian, Street Food, Chinese', 'North Indian, Fast Food, Bihari', 'Cafe, Desserts, Healthy Food, Juices', 'Italian, Mediterranean', 'North Indian, Spanish, Mediterranean', 'North Indian, Lebanese, European, Mexican', 'Finger Food, North Indian', 'Chinese, Fast Food, Pizza', 'American, Italian, North Indian, European, Thai', 'North Indian, Italian, Continental, Asian', 'North Indian, American, Chinese', 'Continental, North Indian, Chinese, Mughlai, Asian', 'Continental, North Indian, Chinese, Cafe', 'Italian, Mexican, Lebanese, Continental', 'European, Continental, North Indian', 'North Indian, South Indian, Chinese, Fast Food, Bakery, Mithai', 'Bakery, Desserts, Fast Food, Beverages', 'Continental, Chinese, Italian, Finger Food', 'North Indian, South Indian, Chinese, Mithai', 'Thai, Chinese, Seafood', 'Street Food, North Indian, South Indian', 'Fast Food, Italian, North Indian, Chinese', 'Cafe, North Indian, Lebanese, Continental', 'Ice Cream, Desserts, North Indian, Street Food', 'Street Food, North Indian, South Indian, Chinese', 'Cafe, Fast Food, Desserts', 'North Indian, Fast Food, Chinese, Continental', 'Chinese, North Indian, Italian, Continental, Fast Food', 'Cafe, Chinese, Continental, Italian, Desserts, Beverages', 'Mithai, Chinese, Street Food', 'North Indian, Biryani, Chinese, Fast Food', 'Chinese, North Indian, Italian, Fast Food', 'Chinese, Fast Food, Ice Cream', 'Cafe, Italian, Chinese, North Indian', 'North Indian, Mughlai, Continental, Chinese', 'Desserts, Fast Food, Ice Cream', 'South Indian, North Indian, Chinese, Street Food, Fast Food', 'Desserts, Mithai', 'North Indian, Mughlai, Chinese, Fast Food', 'Fast Food, North Indian, South Indian, Chinese, Street Food, Mithai', 'Italian, Chinese, North Indian', 'European, Italian, Thai, Chinese, North Indian', 'Tibetan, Fast Food', 'North Indian, European, South Indian', 'Gujarati, Rajasthani, North Indian, Fast Food', 'Fast Food, North Indian, Mughlai', 'Continental, North Indian, American, Italian, Mexican', 'North Indian, Chinese, Mexican, Lebanese, Italian, Fast Food', 'Cafe, Pizza, Italian', 'American, Italian, North Indian, Chinese, Lebanese', 'Continental, Kashmiri, Italian, North Indian, Moroccan', 'Cafe, Desserts, Bakery', 'Mediterranean, American, Asian', 'American, Continental, Italian', 'Seafood, Chinese, Japanese, Vietnamese, Asian, Thai', 'Cafe, Tea, Desserts', 'Italian, French, European, Cafe', 'Chinese, Thai, Continental, North Indian', 'European, Continental, Pizza', 'North Indian, Lebanese, Mexican, Asian, Italian, American, European', 'Italian, European, Cafe', 'American, European', 'Mithai, North Indian, South Indian, Chinese, Bakery', 'Lucknowi, Biryani', 'Desserts, Bakery, Fast Food', 'Hyderabadi, North Indian', 'North Indian, Chinese, Mughlai, Continental', 'Bakery, Fast Food, Street Food', 'Fast Food, North Indian, South Indian, Chinese, Bakery', 'South Indian, Fast Food, Street Food', 'Raw Meats, Street Food', 'Chinese, Italian', 'Cafe, French', 'South Indian, Fast Food', 'North Indian, Chinese, Street Food, Mithai', 'Mithai, North Indian, South Indian, Chinese, Street Food', 'Burger, Fast Food, Chinese, Bakery', 'North Indian, Mughlai, Nepalese, Tibetan, Korean', 'Tibetan, Chinese', 'Fast Food, South Indian, Chinese', 'Fast Food, South Indian', 'Fast Food, Mithai, Bakery', 'Chinese, Continental, Mexican', 'Bakery, Fast Food, Beverages', 'Fast Food, Tea', 'Sushi, Asian', 'Cafe, Pizza', 'Mughlai, Fast Food, North Indian', 'North Indian, South Indian, Street Food, Chinese, Fast Food, Mithai', 'Continental, European, North Indian, French', 'North Indian, Street Food, South Indian, Mithai', 'Ice Cream, Street Food', 'Chinese, North Indian, Mithai, Street Food', 'Japanese, French', 'American, Italian, Bakery, Deli, Burger, Sandwich, Pizza', 'American, Continental, Italian, Bakery', 'Desserts, Middle Eastern, Turkish', 'European, Lebanese, Mediterranean', 'North Indian, Mithai, South Indian, Street Food, Fast Food', 'North Indian, South Indian, Continental, Fast Food', 'Fast Food, North Indian, Bakery', 'North Indian, Mughlai, Chinese, Continental, Fast Food', 'North Indian, Fast Food, Biryani', 'Biryani, Chinese, North Indian', 'North Indian, Chinese, Mughlai, South Indian', 'Cafe, North Indian, Continental', 'South Indian, Nepalese', 'European, North Indian', 'Naga, Chinese', 'Tibetan, South Indian, North Indian', 'Cafe, North Eastern', 'Tibetan', 'North Indian, Chinese, Tibetan', 'Tibetan, Chinese, North Indian', 'Cafe, Tibetan', 'Nepalese, Tibetan', 'Mexican, Italian, North Indian, Continental, Asian', 'Cafe, Italian, Mexican, Salad, Desserts', 'North Indian, Italian', 'Italian, North Indian, Chinese, Mughlai', 'Chinese, Tibetan, Japanese', 'Thai, Chinese, North Indian', 'Thai, Japanese', 'Asian, North Indian, Continental', 'North Indian, Chinese, Seafood, Chettinad', 'North Indian, Continental, Asian, Chinese, Thai', 'North Indian, South Indian, Chinese, Mughlai', 'Lucknowi, Mughlai', 'Cafe, American, Italian', 'Cafe, Bakery, Parsi', 'Sushi, Japanese, Healthy Food', 'Cafe, Fast Food, Healthy Food', 'Biryani, Kerala', 'American, Asian, North Indian, Mexican, South Indian', 'Street Food, Desserts', 'Asian, Thai, Chinese, North Indian', 'Fast Food, Pizza, Burger', 'Mexican, North Indian', 'Street Food, Fast Food, Chinese, South Indian, North Indian', 'Fast Food, Raw Meats', 'Continental, Italian, Fast Food', 'Mithai, North Indian, South Indian, Chinese, Street Food, Bakery', 'Mithai, Bakery, North Indian', 'Fast Food, North Indian, South Indian', 'North Indian, Chinese, Italian, Finger Food', 'North Indian, European, Chinese', 'Salad, Healthy Food, Burger, Italian, Continental, Chinese, North Indian, Beverages', 'Mithai, South Indian', 'North Indian, Fast Food, Street Food', 'Street Food, South Indian, Chinese', 'Burger, Pizza, Fast Food', 'Asian, North Indian, Mughlai', 'South Indian, Chinese, Fast Food, Mithai', 'North Eastern, North Indian, Chinese', 'Fast Food, Street Food, Chinese', 'North Eastern, North Indian', 'South Indian, North Indian, Fast Food', 'Awadhi, Mughlai', 'Fast Food, Mughlai', 'South Indian, Fast Food, North Indian, Chinese', 'Fast Food, South Indian, Mithai', 'Pizza, Fast Food, Bakery', 'Mithai, Chinese', 'Bakery, Pizza', 'South Indian, Pizza, Chinese', 'Chinese, Bakery', 'Italian, Fast Food, South Indian', 'South Indian, Street Food, Desserts', 'Desserts, Ice Cream, Fast Food', 'Bengali, Chinese', 'Chinese, North Eastern', 'American, Tex-Mex, Italian, Mexican, North Indian', 'Mithai, North Indian, Street Food, Chinese, South Indian, Indian', 'Ice Cream, Beverages, Fast Food', 'Finger Food, Italian, Middle Eastern', 'North Indian, Italian, Chinese, Thai', 'North Indian, Chinese, Italian, Mexican, Lebanese', 'North Indian, Chinese, Italian, Lebanese, Mexican', 'North Indian, Continental, Chinese, Fast Food', 'North Indian, Fast Food, Chinese, Mithai', 'Turkish, Arabian, Moroccan, Lebanese', 'Chinese, Indian', 'Chinese, Seafood, Asian', 'North Indian, Street Food, South Indian, Fast Food, Chinese', 'Healthy Food, Juices', 'Ice Cream, Beverages', 'Italian, Continental, Fast Food, North Indian', 'North Indian, Street Food, Fast Food, Chinese, South Indian, Mithai', 'North Indian, Fast Food, Chinese, Japanese, Asian, Italian', 'Cafe, Fast Food, Asian, Italian', 'North Indian, Chinese, Tibetan, Italian, Fast Food', 'Chinese, Thai, Seafood, North Indian, Italian', 'Fast Food, Chinese, Mithai, Street Food', 'Fast Food, Continental, Italian, Bakery', 'Mithai, Street Food, North Indian, South Indian', 'Ice Cream, Bakery', 'North Indian, Fast Food, Mithai', 'Beverages, Healthy Food', 'Desserts, Fast Food, Chinese', 'North Indian, Kashmiri, Mughlai', 'North Indian, Chinese, Seafood', 'Continental, Italian, North Indian, Lebanese', 'Street Food, South Indian', 'Chinese, Italian, Continental', 'Hyderabadi, Fast Food', 'Fast Food, Healthy Food', 'Fast Food, Desserts, Beverages', 'North Indian, Mithai, South Indian, Street Food, Chinese', 'North Indian, South Indian, Bihari', 'Asian, North Indian, Japanese', 'North Indian, South Indian, Fast Food, Street Food, Chinese, Mithai', 'North Indian, Continental, Mughlai', 'Street Food, Mughlai', 'Tea, Beverages, Fast Food', 'Fast Food, Chinese, North Indian', 'North Indian, South Indian, Fast Food, Street Food, Chinese, Beverages, Mithai', 'Japanese, Chinese', 'North Indian, Continental, Italian, Thai, Chinese', 'Chinese, North Indian, Continental, Italian', 'North Indian, Finger Food, Italian, Chinese', 'Lebanese, Chinese', 'Italian, Continental, North Indian', 'North Indian, Chinese, Mexican, Italian, Thai, Lebanese', 'Fast Food, Mughlai, Armenian', 'South Indian, Chinese, Mithai', 'North Indian, Mughlai, Armenian', 'North Indian, South Indian, Bakery, Italian', 'Street Food, North Indian, Chinese, Continental', 'North Indian, Beverages', 'Italian, Continental, Fast Food, Chinese', 'Fast Food, Maharashtrian, North Indian', 'Raw Meats, North Indian', 'Cafe, Fast Food, Pizza', 'Cafe, South Indian, North Indian, Bakery', 'North Indian, Biryani, Fast Food', 'Bakery, Desserts, Fast Food, Street Food, Chinese, Beverages', 'Thai, European, Mexican, North Indian, Chinese, Cafe', 'American, Asian, European, Seafood', 'North Indian, Mexican, Chinese, Italian', 'North Indian, Fast Food, Italian, Chinese, Cafe', 'Continental, North Indian, Chinese, Italian, Finger Food', 'Healthy Food, Italian, Juices, Beverages', 'North Indian, Mughlai, Lebanese', 'Cafe, Continental, Italian, North Indian', 'Continental, Fast Food, North Indian, Asian', 'Continental, Italian, American', 'Cafe, Asian, Italian, North Indian', 'Continental, Italian, North Indian, Chinese', 'North Indian, Mangalorean, Chinese', 'Kashmiri, North Indian, Mughlai, South Indian, Maharashtrian, Gujarati', 'Continental, North Indian, Chinese, Asian', 'Continental, Italian, Mediterranean, Asian', 'Continental, Modern Indian, Asian', 'Fast Food, North Indian, Chinese, South Indian, Ice Cream', 'Bakery, Chinese, Fast Food', 'North Indian, Chinese, South Indian, Street Food, Fast Food, Mithai', 'South Indian, Street Food, Mithai', 'North Indian, Continental, European, American, Mediterranean', 'Continental, American, North Indian', 'Naga, Tibetan', 'Pizza, Continental, Beverages', 'Naga, Tibetan, Chinese, Bakery', 'Chinese, Tibetan, Fast Food', 'Cafe, Korean', 'North Indian, Tibetan', 'Cafe, American, Continental, Nepalese', 'Continental, Chinese, Fast Food', 'Assamese', 'Chinese, North Indian, Fast Food, Street Food', 'European, Asian', 'Mexican, American', 'Mithai, Street Food, North Indian, South Indian, Chinese', 'Desserts, Ice Cream, Pizza', 'Finger Food, North Indian, Continental, Chinese, Italian', 'Pizza, North Indian, Continental', 'Chinese, Asian, Mediterranean, Continental', 'Cafe, Italian, Lebanese, Continental, Mediterranean', 'Asian, Sushi', 'Arabian, North Indian', 'Continental, Mexican, Fast Food, North Indian, Chinese', 'Chinese, Continental, Italian, North Indian', 'Cafe, Continental, Italian, Mexican, Chinese, American', 'Cafe, Continental, Italian, Fast Food', 'Italian, Continental, Mexican, North Indian', 'Fast Food, Italian, Beverages', 'Continental, American, Italian, North Indian, Chinese', 'Cafe, Italian, North Indian', 'North Indian, Chinese, Fast Food, Cafe', 'Chinese, Thai, Continental, Fast Food, North Indian', 'Cafe, North Indian, Continental, Italian', 'Cafe, Continental, Mexican, Italian, North Indian, Chinese', 'Cafe, Continental, Italian, Chinese', 'Cafe, North Indian, Continental, Chinese', 'Cafe, Continental, Chinese, North Indian, Italian', 'Cafe, Italian, Continental, Mexican', 'Cafe, Continental, Italian, Chinese, North Indian', 'Cafe, Continental, North Indian, Chinese, Mexican', 'Hyderabadi, Biryani, North Indian', 'Cafe, Italian, Chinese, Continental', 'Asian, Chinese, Thai, Japanese', 'Korean, Beverages, Desserts', 'Italian, Mexican, Spanish, Thai, Vietnamese, Indonesian, American', 'South Indian, Fast Food, Chinese', 'North Indian, Chinese, South Indian, Bakery', 'Pizza, Burger, Fast Food', 'Cafe, North Indian, Chinese, South Indian', 'North Indian, Continental, Salad', 'Asian, Chinese, Thai, Vietnamese', 'Cafe, Continental, Italian, Mexican', 'Cafe, Bakery, Italian', 'Desserts, North Indian', 'Pizza, Ice Cream', 'North Indian, Street Food, Chinese', 'North Indian, Awadhi', 'Pizza, Salad, Finger Food', 'Seafood, Italian', 'Tea, Cafe', 'North Indian, Continental, European, Chinese, Thai', 'Afghani, North Indian, Pakistani, Arabian', 'Biryani, Mughlai, Bengali, North Indian', 'Asian, Chinese, Thai, Malaysian, Indonesian, Burmese', 'Bakery, Desserts, Healthy Food', 'Chinese, Continental, Thai', 'Cafe, Fast Food, Bakery', 'Continental, North Indian, European, Asian', 'North Indian, Continental, Lebanese', 'Italian, Continental, Finger Food', 'Continental, North Indian, South Indian, Italian', 'Cafe, American, Tea', 'Spanish, Italian', 'American, Finger Food', 'Finger Food, European', 'North Indian, Chinese, South Indian, Italian', 'European, Desserts', 'Malaysian, Thai, Kerala, Vietnamese, Sri Lankan', 'Chinese, Cafe', 'Mughlai, North Indian, South Indian', 'French, Italian', 'Mughlai, Italian, Finger Food, Middle Eastern', 'Continental, Italian, American, North Indian', 'Continental, Italian, Mediterranean', 'Finger Food, Continental, Italian, Chinese', 'Thai, Chinese, Japanese', 'Mediterranean, European', 'North Indian, European, Continental', 'Malaysian, Thai', 'North Indian, European, Asian', 'Continental, Thai, Chinese, North Indian', 'North Indian, Fast Food, Afghani', 'Beverages, Ice Cream', 'North Indian, Mughlai, Chinese, Bakery', 'Mithai, North Indian, South Indian', 'Street Food, Chinese, Mithai', 'Fast Food, South Indian, Chinese, Mithai', 'Ice Cream, Desserts, Fast Food', 'Continental, Seafood, North Indian', 'Continental, Italian, North Indian, Chinese, Lebanese', 'Cafe, American, Italian, North Indian, Chinese', 'North Indian, Chinese, South Indian, Mithai', 'Hyderabadi, Biryani', 'Continental, Chinese, Italian, Cafe', 'Continental, Mexican', 'Cafe, Mexican, Italian, North Indian, Chinese', 'North Indian, Chinese, Continental, Italian, Mexican, Lebanese', 'American, Italian, Cafe', 'Chinese, Thai, Tibetan, Japanese', 'Cafe, Italian, Continental, Mexican, Mediterranean', 'Chinese, Biryani, North Indian', 'Bakery, Fast Food, Pizza', 'Bakery, Desserts, Fast Food, Pizza, Burger, Finger Food', 'Chinese, Fast Food, North Indian, South Indian, Street Food, Mithai', 'North Indian, Chinese, Bakery', 'North Indian, South Indian, Mithai', 'Lebanese, North Indian, Fast Food', 'Awadhi', 'North Indian, Chinese, Fast Food, Street Food', 'Asian, Continental, Italian, North Indian', 'Italian, Lebanese, North Indian', 'Chinese, Thai, Asian, Japanese, Korean, Seafood', 'Continental, American, Cafe', 'Asian, Chinese, Japanese', 'Continental, American, Italian, Mediterranean', 'Cafe, North Indian, Italian, Chinese', 'Continental, Mexican, Mediterranean', 'Juices, Fast Food', 'Continental, North Indian, Mexican', 'Mediterranean, Continental, North Indian, Italian', 'North Indian, Mughlai, Hyderabadi', 'Biryani, North Indian, Fast Food', 'Mughlai, Continental, Chinese', 'Cafe, Continental, Fast Food, Italian', 'North Indian, South Indian, Italian, Chinese', 'North Indian, Chinese, Mughlai, Fast Food', 'Mexican, Italian, Fast Food', 'Continental, Mexican, American, Fast Food, Italian, Chinese', 'South Indian, North Indian, Street Food', 'Mithai, North Indian, Street Food', 'Continental, Chinese, North Indian, Indian', 'Continental, Fast Food, Italian', 'North Indian, Chinese, Thai, Continental', 'North Indian, Chinese, Mediterranean', 'South Indian, Chinese, Street Food, Mithai', 'Italian, North Indian, Chinese', 'Mithai, North Indian, South Indian, Street Food, Chinese', 'Italian, Continental, North Indian, Chinese', 'North Indian, Continental, Thai, Chinese', 'Bakery, Beverages, Fast Food', 'American, Italian, Chinese, North Indian, Cafe', 'Continental, Mexican, Fast Food, Chinese', 'Pizza, North Indian', 'Street Food, Continental, South Indian, North Indian, Chinese', 'North Indian, Fast Food, Chinese, Biryani, Mughlai', 'Cafe, Italian, Continental, Desserts', 'North Indian, Mughlai, Italian, Chinese', 'Fast Food, North Indian, Chinese, Desserts, Ice Cream', 'Italian, Chinese', 'Cafe, Healthy Food, Continental, Italian, Asian', 'Continental, Mexican, Italian', 'North Indian, South Indian, Italian, Continental, Mediterranean, Lebanese, Desserts', 'North Indian, Chinese, Fast Food, Mithai', 'North Indian, Seafood, Bengali', 'American, Italian, North Indian, Chinese', 'North Indian, Mughlai, Mughlai', 'Salad, Continental', 'North Indian, Healthy Food, Rajasthani', 'Fast Food, Cafe, Italian, North Indian, Chinese', 'Healthy Food, North Indian, Chinese, Continental', 'Awadhi, North Indian', 'Tibetan, Street Food', 'North Indian, Mughlai, Chinese, Raw Meats', 'Continental, Fast Food, Asian, Italian', 'North Indian, South Indian, Chinese, Street Food, Fast Food, Mithai', 'North Indian, Chinese, Italian, Thai', 'Mithai, North Indian, Chinese', 'Fast Food, Italian, Desserts, Beverages', 'Kashmiri, Chinese', 'Bakery, North Indian', 'Italian, Continental, American', 'Lucknowi, Mughlai, North Indian', 'North Indian, Chinese, Kashmiri', 'Mithai, Beverages', 'North Indian, Chinese, Mediterranean, Asian, Continental', 'North Indian, South Indian, Bakery, Beverages', 'European, North Indian, Chinese', 'Juices, Beverages, Fast Food', 'Bakery, Desserts, Fast Food, North Indian', 'Continental, Lebanese, Mexican', 'Chinese, North Indian, South Indian, Fast Food', 'North Indian, Middle Eastern, Pizza', 'American, Chinese, North Indian, Italian', 'Continental, Cafe, Italian, Pizza, North Indian, Chinese, Bakery, Mughlai', 'North Indian, Continental, Chinese, South Indian', 'Desserts, Beverages, Juices', 'French, Continental, North Indian', 'Bakery, French', 'Chinese, Thai, Malaysian, Vietnamese, Korean, Indonesian, Asian', 'North Indian, Seafood, South Indian, Italian', 'Continental, North Indian, Finger Food', 'North Indian, French, Continental', 'Goan, Mangalorean, Continental, French', 'Continental, North Indian, Mughlai, Burmese', 'North Indian, North Eastern, Continental', 'Finger Food, Italian, Spanish, Greek', 'Charcoal Grill, Italian, North Indian, European, Indonesian, Thai', 'European, Asian, Mediterranean, Modern Indian, Desserts, Finger Food', 'Italian, German, Continental', 'Mexican, American, Tex-Mex', 'North Indian, Mediterranean, Chinese', 'European, North Indian, Continental, Italian', 'North Indian, Chinese, South Indian, Chinese', 'Continental, North Indian, European', 'Cafe, Italian, Mexican, Chinese, North Indian', 'Chinese, North Indian, Italian, Mexican', 'North Indian, Chinese, Thai, Mexican, Italian', 'Lebanese, Italian', 'Italian, North Indian, Desserts, Continental', 'Italian, Mexican, Mediterranean', 'Italian, Continental, Chinese, Mexican', 'Italian, Lebanese, Mexican', 'North Indian, Italian, Mexican, Asian', 'Cafe, Mexican, Italian, Fast Food', 'North Indian, Continental, Italian, Asian', 'Italian, Mexican, Continental', 'Thai, Chinese, Asian', 'Continental, Chinese, Mexican, North Indian', 'North Indian, Thai, Italian, Chinese, Mexican', 'North Indian, Mughlai, Mexican, Thai', 'Pizza, Chinese', 'North Indian, Cafe', 'Japanese, American, North Indian, Fast Food', 'Chinese, Thai, Burmese, Vietnamese, Tibetan, Japanese', 'Cafe, Fast Food, American', 'Andhra, North Indian, Chinese, Seafood, Biryani', 'Andhra, North Indian, Chinese', 'Mughlai, Chinese, Cafe, BBQ, Cajun', 'South Indian, Chinese, Continental, Italian, North Indian', 'Biryani, Andhra', 'Continental, Seafood, Chinese, North Indian, Biryani', 'Burger, Pizza, Biryani', 'American, North Indian, Thai, Continental', 'Cafe, Coffee and Tea, Western', 'Cafe, Desserts, Beverages', 'Peranakan, Indonesian', 'Sunda, Indonesian', 'Cafe, Italian, Coffee and Tea, Western, Indonesian', 'Desserts, Bakery, Western', 'Asian, Indonesian, Western', 'Western, Asian, Cafe', 'Japanese, Sushi, Ramen', 'Cafe, Western', 'Seafood, Western', 'French, Western', 'Indonesian', 'Seafood, Kiwi', 'Cafe, American', 'Asian Fusion, Cafe', 'Taiwanese, Street Food', 'Kiwi, European', 'Asian Fusion, Pub Food, Fusion, Asian, Filipino, Malaysian, Thai', 'Asian, Sushi, Seafood', 'Malaysian', 'Cafe, Kiwi', 'Cafe, Kiwi, Ice Cream, Desserts', 'Cafe, European, Mexican', 'Vietnamese, Fish and Chips', 'Italian, Cafe', 'French, Kiwi', 'Mediterranean, Cafe, European', 'Cafe, British', 'British, Steak', 'Burger, American', 'Contemporary', 'British, Cafe', 'Latin American, Italian', 'British', 'Greek, Mediterranean, Middle Eastern', 'Indian, Pakistani', 'Ice Cream, Desserts, Cafe', 'Scottish, Cafe', 'British, French', 'Burger, Grill', 'Indian, Cafe', 'Sushi, Japanese, Cantonese', 'British, Scottish, Seafood', 'Indian, Street Food', 'Steak, Scottish, British', 'Indian, Pakistani, Curry', 'Indian, Cafe, Curry', 'Chinese, Dim Sum', 'British, Contemporary', 'Indian, Curry', 'Indian, North Indian, Curry, Cafe', 'Ramen, Japanese', 'American, Fast Food, Desserts, Steak', 'Steak, Seafood, Grill', 'Pakistani, Indian, Afghani, Curry', 'American, Burger, Grill', 'British, Burger, Cafe', 'Indian, Seafood', 'Indian, Grill', 'Argentine, American', 'European, Mediterranean, Contemporary', 'Kerala, Indian, Chinese, Bakery', 'Pakistani', 'North Indian, Chinese, Turkish', 'European, Arabian, Japanese, Bakery, Desserts', 'Pizza, Grill', 'Cafe, Patisserie', 'Japanese, Sushi, Asian', 'Cafe, Bakery, Tea, Vegetarian', 'Seafood, Asian, Grill, Sushi', 'Burger, Fast Food, Grill', 'Japanese, Asian, Seafood, Sushi', 'Cafe, Patisserie, Bakery, Desserts', 'Seafood, African, Sushi', 'Cafe, Mediterranean', 'Burger, American, Grill', 'Seafood, Japanese, Sushi', 'European, Contemporary', 'Asian, Sushi, Tapas', 'European, Pizza', 'Burger, Finger Food, Pizza', 'Continental, South African, Beverages, Desserts, Seafood, Grill, Ice Cream, International', 'African', 'Burger, Steak, Seafood', 'Cafe, Burger, Tapas, South African, European, Grill', 'Healthy Food, Seafood, Beverages, Belgian, Contemporary, Desserts, Finger Food, International', 'Burger, American, Beverages', 'Street Food, Burger, American, Finger Food, German', 'Indian, Asian, Durban, International, Desserts', 'Cafe, Italian, Pizza, European, Bakery, Deli', 'Contemporary, Sushi, Grill, Italian, Steak', 'Cafe, Grill', 'European, South African, Steak', 'Italian, Mediterranean, Sushi, Desserts', 'Continental, Seafood, Burger, South African, Finger Food, Grill', 'Cafe, Tapas, South African, Beverages, Healthy Food, Desserts, Spanish', 'Street Food, Continental, Burger, Grill', 'Grill, Burger', 'Contemporary, Italian', 'Contemporary, Burger, European', 'Italian, Pizza, Beverages, Desserts, Grill, Seafood', 'Grill, Steak, Burger, Sushi, Tapas', 'European, South African', 'North Indian, Chinese, Sri Lankan', 'Italian, Cafe, Desserts', 'Cafe, Sri Lankan, Continental, American', 'Sri Lankan', 'Malaysian, North Indian, Sri Lankan', 'Cafe, Fast Food, Beverages', 'American, Chinese, North Indian', 'Middle Eastern, Arabian', 'Continental, American, Seafood', 'American, Fast Food, Steak, Beverages', 'Kebab', 'Kebab, Turkish Pizza', 'Patisserie, Coffee and Tea', 'Kebab, Izgara', 'World Cuisine', 'World Cuisine, Mexican, Italian', 'Kebab, Turkish Pizza, D�_ner', 'Turkish Pizza', 'Kebab, Desserts, Turkish Pizza', 'Restaurant Cafe, Desserts', 'Restaurant Cafe, Turkish, Desserts', 'Restaurant Cafe', 'Desserts, B�_rek', 'Burger, Izgara', 'World Cuisine, Patisserie, Cafe', 'Italian, World Cuisine']\n"
     ]
    }
   ],
   "source": [
    "cnt=0\n",
    "visited=[]\n",
    "for i in range(0,len(df['Cuisines'])):\n",
    "    if df['Cuisines'][i] not in visited:\n",
    "        visited.append(df['Cuisines'][i])\n",
    "        cnt+=1\n",
    "print(\"No.of.unique values :\",\n",
    "      cnt)\n",
    " \n",
    "print(\"unique values :\",\n",
    "      visited)       "
   ]
  },
  {
   "cell_type": "code",
   "execution_count": 13,
   "id": "94966bcc",
   "metadata": {},
   "outputs": [
    {
     "data": {
      "text/plain": [
       "array(['Makati City', 'Mandaluyong City', 'Pasay City', 'Pasig City',\n",
       "       'Quezon City', 'San Juan City', 'Santa Rosa', 'Tagaytay City',\n",
       "       'Taguig City', 'Bras�_lia', 'Rio de Janeiro', 'S��o Paulo',\n",
       "       'Albany', 'Armidale', 'Athens', 'Augusta', 'Balingup',\n",
       "       'Beechworth', 'Boise', 'Cedar Rapids/Iowa City', 'Chatham-Kent',\n",
       "       'Clatskanie', 'Cochrane', 'Columbus', 'Consort', 'Dalton',\n",
       "       'Davenport', 'Des Moines', 'Dicky Beach', 'Dubuque',\n",
       "       'East Ballina', 'Fernley', 'Flaxton', 'Forrest', 'Gainesville',\n",
       "       'Hepburn Springs', 'Huskisson', 'Inverloch', 'Lakes Entrance',\n",
       "       'Lakeview', 'Lincoln', 'Lorn', 'Macedon', 'Macon', 'Mayfield',\n",
       "       'Mc Millan', 'Middleton Beach', 'Miller', 'Monroe', 'Montville',\n",
       "       'Ojo Caliente', 'Orlando', 'Palm Cove', 'Paynesville', 'Penola',\n",
       "       'Pensacola', 'Phillip Island', 'Pocatello', 'Potrero', 'Princeton',\n",
       "       'Rest of Hawaii', 'Savannah', 'Singapore', 'Sioux City',\n",
       "       'Tampa Bay', 'Tanunda', 'Trentham East', 'Valdosta', 'Vernonia',\n",
       "       'Victor Harbor', 'Vineland Station', 'Waterloo', 'Weirton',\n",
       "       'Winchester Bay', 'Yorkton', 'Abu Dhabi', 'Dubai', 'Sharjah',\n",
       "       'Agra', 'Ahmedabad', 'Allahabad', 'Amritsar', 'Aurangabad',\n",
       "       'Bangalore', 'Bhopal', 'Bhubaneshwar', 'Chandigarh', 'Chennai',\n",
       "       'Coimbatore', 'Dehradun', 'Faridabad', 'Ghaziabad', 'Goa',\n",
       "       'Gurgaon', 'Guwahati', 'Hyderabad', 'Indore', 'Jaipur', 'Kanpur',\n",
       "       'Kochi', 'Kolkata', 'Lucknow', 'Ludhiana', 'Mangalore', 'Mohali',\n",
       "       'Mumbai', 'Mysore', 'Nagpur', 'Nashik', 'New Delhi', 'Noida',\n",
       "       'Panchkula', 'Patna', 'Puducherry', 'Pune', 'Ranchi',\n",
       "       'Secunderabad', 'Surat', 'Vadodara', 'Varanasi', 'Vizag',\n",
       "       'Bandung', 'Bogor', 'Jakarta', 'Tangerang', 'Auckland',\n",
       "       'Wellington City', 'Birmingham', 'Edinburgh', 'London',\n",
       "       'Manchester', 'Doha', 'Cape Town', 'Inner City', 'Johannesburg',\n",
       "       'Pretoria', 'Randburg', 'Sandton', 'Colombo', 'Ankara',\n",
       "       '��stanbul'], dtype=object)"
      ]
     },
     "execution_count": 13,
     "metadata": {},
     "output_type": "execute_result"
    }
   ],
   "source": [
    "df.City.unique()"
   ]
  },
  {
   "cell_type": "code",
   "execution_count": 14,
   "id": "e3dc5107",
   "metadata": {},
   "outputs": [
    {
     "data": {
      "text/plain": [
       "array([5473, 1118, 1080,  251,   25,   21,   20,   18,   16,   14,   11,\n",
       "          6,    4,    3,    2,    1], dtype=int64)"
      ]
     },
     "execution_count": 14,
     "metadata": {},
     "output_type": "execute_result"
    }
   ],
   "source": [
    "df.City.value_counts().unique()"
   ]
  },
  {
   "cell_type": "code",
   "execution_count": 15,
   "id": "521d128b",
   "metadata": {},
   "outputs": [
    {
     "name": "stdout",
     "output_type": "stream",
     "text": [
      "No.of.unique values : 141\n",
      "unique values : ['Makati City', 'Mandaluyong City', 'Pasay City', 'Pasig City', 'Quezon City', 'San Juan City', 'Santa Rosa', 'Tagaytay City', 'Taguig City', 'Bras�_lia', 'Rio de Janeiro', 'S��o Paulo', 'Albany', 'Armidale', 'Athens', 'Augusta', 'Balingup', 'Beechworth', 'Boise', 'Cedar Rapids/Iowa City', 'Chatham-Kent', 'Clatskanie', 'Cochrane', 'Columbus', 'Consort', 'Dalton', 'Davenport', 'Des Moines', 'Dicky Beach', 'Dubuque', 'East Ballina', 'Fernley', 'Flaxton', 'Forrest', 'Gainesville', 'Hepburn Springs', 'Huskisson', 'Inverloch', 'Lakes Entrance', 'Lakeview', 'Lincoln', 'Lorn', 'Macedon', 'Macon', 'Mayfield', 'Mc Millan', 'Middleton Beach', 'Miller', 'Monroe', 'Montville', 'Ojo Caliente', 'Orlando', 'Palm Cove', 'Paynesville', 'Penola', 'Pensacola', 'Phillip Island', 'Pocatello', 'Potrero', 'Princeton', 'Rest of Hawaii', 'Savannah', 'Singapore', 'Sioux City', 'Tampa Bay', 'Tanunda', 'Trentham East', 'Valdosta', 'Vernonia', 'Victor Harbor', 'Vineland Station', 'Waterloo', 'Weirton', 'Winchester Bay', 'Yorkton', 'Abu Dhabi', 'Dubai', 'Sharjah', 'Agra', 'Ahmedabad', 'Allahabad', 'Amritsar', 'Aurangabad', 'Bangalore', 'Bhopal', 'Bhubaneshwar', 'Chandigarh', 'Chennai', 'Coimbatore', 'Dehradun', 'Faridabad', 'Ghaziabad', 'Goa', 'Gurgaon', 'Guwahati', 'Hyderabad', 'Indore', 'Jaipur', 'Kanpur', 'Kochi', 'Kolkata', 'Lucknow', 'Ludhiana', 'Mangalore', 'Mohali', 'Mumbai', 'Mysore', 'Nagpur', 'Nashik', 'New Delhi', 'Noida', 'Panchkula', 'Patna', 'Puducherry', 'Pune', 'Ranchi', 'Secunderabad', 'Surat', 'Vadodara', 'Varanasi', 'Vizag', 'Bandung', 'Bogor', 'Jakarta', 'Tangerang', 'Auckland', 'Wellington City', 'Birmingham', 'Edinburgh', 'London', 'Manchester', 'Doha', 'Cape Town', 'Inner City', 'Johannesburg', 'Pretoria', 'Randburg', 'Sandton', 'Colombo', 'Ankara', '��stanbul']\n"
     ]
    }
   ],
   "source": [
    "cnt=0\n",
    "visited=[]\n",
    "for i in range(0,len(df['City'])):\n",
    "    if df['City'][i] not in visited:\n",
    "        visited.append(df['City'][i])\n",
    "        cnt+=1\n",
    "print(\"No.of.unique values :\",\n",
    "      cnt)\n",
    " \n",
    "print(\"unique values :\",\n",
    "      visited)       "
   ]
  },
  {
   "cell_type": "code",
   "execution_count": 16,
   "id": "1ec08995",
   "metadata": {},
   "outputs": [
    {
     "name": "stdout",
     "output_type": "stream",
     "text": [
      "0    New Delhi\n",
      "Name: City, dtype: object\n"
     ]
    }
   ],
   "source": [
    "a=df['City'].mode()\n",
    "print(a)"
   ]
  },
  {
   "cell_type": "code",
   "execution_count": 17,
   "id": "05b42779",
   "metadata": {},
   "outputs": [
    {
     "data": {
      "text/plain": [
       "5473"
      ]
     },
     "execution_count": 17,
     "metadata": {},
     "output_type": "execute_result"
    }
   ],
   "source": [
    "df[df['City'] == 'New Delhi'].count()[0]"
   ]
  },
  {
   "cell_type": "code",
   "execution_count": 18,
   "id": "75285f73",
   "metadata": {},
   "outputs": [
    {
     "data": {
      "text/plain": [
       "20"
      ]
     },
     "execution_count": 18,
     "metadata": {},
     "output_type": "execute_result"
    }
   ],
   "source": [
    "df[df['City'] == 'Nagpur'].count()[0]"
   ]
  },
  {
   "cell_type": "code",
   "execution_count": 19,
   "id": "8d840b1a",
   "metadata": {},
   "outputs": [
    {
     "name": "stdout",
     "output_type": "stream",
     "text": [
      "0.0    2148\n",
      "3.2     522\n",
      "3.1     519\n",
      "3.4     498\n",
      "3.3     483\n",
      "3.5     480\n",
      "3.0     468\n",
      "3.6     458\n",
      "3.7     427\n",
      "3.8     400\n",
      "2.9     381\n",
      "3.9     335\n",
      "2.8     315\n",
      "4.1     274\n",
      "4.0     266\n",
      "2.7     250\n",
      "4.2     221\n",
      "2.6     191\n",
      "4.3     174\n",
      "4.4     144\n",
      "2.5     110\n",
      "4.5      95\n",
      "2.4      87\n",
      "4.6      78\n",
      "4.9      61\n",
      "2.3      47\n",
      "4.7      42\n",
      "2.2      27\n",
      "4.8      25\n",
      "2.1      15\n",
      "2.0       7\n",
      "1.9       2\n",
      "1.8       1\n",
      "Name: Aggregate rating, dtype: int64\n"
     ]
    }
   ],
   "source": [
    "dist = df['Aggregate rating'].value_counts()\n",
    "print(dist)"
   ]
  },
  {
   "cell_type": "code",
   "execution_count": 20,
   "id": "d14db978",
   "metadata": {},
   "outputs": [
    {
     "name": "stdout",
     "output_type": "stream",
     "text": [
      "New Delhi           5473\n",
      "Gurgaon             1118\n",
      "Noida               1080\n",
      "Faridabad            251\n",
      "Ghaziabad             25\n",
      "                    ... \n",
      "Panchkula              1\n",
      "Mc Millan              1\n",
      "Mayfield               1\n",
      "Macedon                1\n",
      "Vineland Station       1\n",
      "Name: City, Length: 141, dtype: int64\n"
     ]
    }
   ],
   "source": [
    "print(df['City'].value_counts())"
   ]
  },
  {
   "cell_type": "code",
   "execution_count": 21,
   "id": "973c87cf",
   "metadata": {},
   "outputs": [
    {
     "name": "stdout",
     "output_type": "stream",
     "text": [
      "North Indian                                             936\n",
      "North Indian, Chinese                                    511\n",
      "Chinese                                                  354\n",
      "Fast Food                                                354\n",
      "North Indian, Mughlai                                    334\n",
      "                                                        ... \n",
      "Bengali, Fast Food                                         1\n",
      "North Indian, Rajasthani, Asian                            1\n",
      "Chinese, Thai, Malaysian, Indonesian                       1\n",
      "Bakery, Desserts, North Indian, Bengali, South Indian      1\n",
      "Italian, World Cuisine                                     1\n",
      "Name: Cuisines, Length: 1825, dtype: int64\n"
     ]
    }
   ],
   "source": [
    "Cuisines_dist=df['Cuisines'].value_counts()\n",
    "print(Cuisines_dist)"
   ]
  },
  {
   "cell_type": "code",
   "execution_count": 22,
   "id": "7524d407",
   "metadata": {},
   "outputs": [
    {
     "name": "stdout",
     "output_type": "stream",
     "text": [
      "North Indian             936\n",
      "North Indian, Chinese    511\n",
      "Chinese                  354\n",
      "Fast Food                354\n",
      "North Indian, Mughlai    334\n",
      "Name: Cuisines, dtype: int64\n"
     ]
    }
   ],
   "source": [
    "Top_cuisines= Cuisines_dist.head(5)\n",
    "print(Top_cuisines)"
   ]
  },
  {
   "cell_type": "markdown",
   "id": "a73c2352",
   "metadata": {},
   "source": [
    "##  Geospatial Analysis"
   ]
  },
  {
   "cell_type": "code",
   "execution_count": 23,
   "id": "e5e6cb23",
   "metadata": {},
   "outputs": [
    {
     "name": "stdout",
     "output_type": "stream",
     "text": [
      "Requirement already satisfied: folium in c:\\users\\marek\\anaconda3\\lib\\site-packages (0.14.0)Note: you may need to restart the kernel to use updated packages.\n",
      "Requirement already satisfied: branca>=0.6.0 in c:\\users\\marek\\anaconda3\\lib\\site-packages (from folium) (0.6.0)\n",
      "Requirement already satisfied: jinja2>=2.9 in c:\\users\\marek\\anaconda3\\lib\\site-packages (from folium) (2.11.3)\n",
      "Requirement already satisfied: numpy in c:\\users\\marek\\anaconda3\\lib\\site-packages (from folium) (1.22.4)\n",
      "\n",
      "Requirement already satisfied: requests in c:\\users\\marek\\anaconda3\\lib\\site-packages (from folium) (2.31.0)\n",
      "Requirement already satisfied: MarkupSafe>=0.23 in c:\\users\\marek\\anaconda3\\lib\\site-packages (from jinja2>=2.9->folium) (2.0.1)\n",
      "Requirement already satisfied: charset-normalizer<4,>=2 in c:\\users\\marek\\anaconda3\\lib\\site-packages (from requests->folium) (2.0.4)\n",
      "Requirement already satisfied: idna<4,>=2.5 in c:\\users\\marek\\anaconda3\\lib\\site-packages (from requests->folium) (3.3)\n",
      "Requirement already satisfied: urllib3<3,>=1.21.1 in c:\\users\\marek\\anaconda3\\lib\\site-packages (from requests->folium) (1.26.9)\n",
      "Requirement already satisfied: certifi>=2017.4.17 in c:\\users\\marek\\anaconda3\\lib\\site-packages (from requests->folium) (2021.10.8)\n"
     ]
    }
   ],
   "source": [
    "pip install folium "
   ]
  },
  {
   "cell_type": "code",
   "execution_count": 28,
   "id": "b3134e53",
   "metadata": {},
   "outputs": [
    {
     "data": {
      "text/html": [
       "<div>\n",
       "<style scoped>\n",
       "    .dataframe tbody tr th:only-of-type {\n",
       "        vertical-align: middle;\n",
       "    }\n",
       "\n",
       "    .dataframe tbody tr th {\n",
       "        vertical-align: top;\n",
       "    }\n",
       "\n",
       "    .dataframe thead th {\n",
       "        text-align: right;\n",
       "    }\n",
       "</style>\n",
       "<table border=\"1\" class=\"dataframe\">\n",
       "  <thead>\n",
       "    <tr style=\"text-align: right;\">\n",
       "      <th></th>\n",
       "      <th>Longitude</th>\n",
       "      <th>Latitude</th>\n",
       "    </tr>\n",
       "  </thead>\n",
       "  <tbody>\n",
       "    <tr>\n",
       "      <th>0</th>\n",
       "      <td>121.027535</td>\n",
       "      <td>14.565443</td>\n",
       "    </tr>\n",
       "    <tr>\n",
       "      <th>1</th>\n",
       "      <td>121.014101</td>\n",
       "      <td>14.553708</td>\n",
       "    </tr>\n",
       "    <tr>\n",
       "      <th>2</th>\n",
       "      <td>121.056831</td>\n",
       "      <td>14.581404</td>\n",
       "    </tr>\n",
       "    <tr>\n",
       "      <th>3</th>\n",
       "      <td>121.056475</td>\n",
       "      <td>14.585318</td>\n",
       "    </tr>\n",
       "    <tr>\n",
       "      <th>4</th>\n",
       "      <td>121.057508</td>\n",
       "      <td>14.584450</td>\n",
       "    </tr>\n",
       "    <tr>\n",
       "      <th>...</th>\n",
       "      <td>...</td>\n",
       "      <td>...</td>\n",
       "    </tr>\n",
       "    <tr>\n",
       "      <th>9546</th>\n",
       "      <td>28.977392</td>\n",
       "      <td>41.022793</td>\n",
       "    </tr>\n",
       "    <tr>\n",
       "      <th>9547</th>\n",
       "      <td>29.041297</td>\n",
       "      <td>41.009847</td>\n",
       "    </tr>\n",
       "    <tr>\n",
       "      <th>9548</th>\n",
       "      <td>29.034640</td>\n",
       "      <td>41.055817</td>\n",
       "    </tr>\n",
       "    <tr>\n",
       "      <th>9549</th>\n",
       "      <td>29.036019</td>\n",
       "      <td>41.057979</td>\n",
       "    </tr>\n",
       "    <tr>\n",
       "      <th>9550</th>\n",
       "      <td>29.026016</td>\n",
       "      <td>40.984776</td>\n",
       "    </tr>\n",
       "  </tbody>\n",
       "</table>\n",
       "<p>9551 rows × 2 columns</p>\n",
       "</div>"
      ],
      "text/plain": [
       "       Longitude   Latitude\n",
       "0     121.027535  14.565443\n",
       "1     121.014101  14.553708\n",
       "2     121.056831  14.581404\n",
       "3     121.056475  14.585318\n",
       "4     121.057508  14.584450\n",
       "...          ...        ...\n",
       "9546   28.977392  41.022793\n",
       "9547   29.041297  41.009847\n",
       "9548   29.034640  41.055817\n",
       "9549   29.036019  41.057979\n",
       "9550   29.026016  40.984776\n",
       "\n",
       "[9551 rows x 2 columns]"
      ]
     },
     "execution_count": 28,
     "metadata": {},
     "output_type": "execute_result"
    }
   ],
   "source": [
    "df[['Longitude', 'Latitude']]"
   ]
  },
  {
   "cell_type": "code",
   "execution_count": 36,
   "id": "da58e372",
   "metadata": {},
   "outputs": [
    {
     "data": {
      "text/html": [
       "<iframe srcdoc=\"&lt;!DOCTYPE html&gt;\n",
       "&lt;html&gt;\n",
       "&lt;head&gt;\n",
       "    \n",
       "    &lt;meta http-equiv=&quot;content-type&quot; content=&quot;text/html; charset=UTF-8&quot; /&gt;\n",
       "    \n",
       "        &lt;script&gt;\n",
       "            L_NO_TOUCH = false;\n",
       "            L_DISABLE_3D = false;\n",
       "        &lt;/script&gt;\n",
       "    \n",
       "    &lt;style&gt;html, body {width: 100%;height: 100%;margin: 0;padding: 0;}&lt;/style&gt;\n",
       "    &lt;style&gt;#map {position:absolute;top:0;bottom:0;right:0;left:0;}&lt;/style&gt;\n",
       "    &lt;script src=&quot;https://cdn.jsdelivr.net/npm/leaflet@1.9.3/dist/leaflet.js&quot;&gt;&lt;/script&gt;\n",
       "    &lt;script src=&quot;https://code.jquery.com/jquery-1.12.4.min.js&quot;&gt;&lt;/script&gt;\n",
       "    &lt;script src=&quot;https://cdn.jsdelivr.net/npm/bootstrap@5.2.2/dist/js/bootstrap.bundle.min.js&quot;&gt;&lt;/script&gt;\n",
       "    &lt;script src=&quot;https://cdnjs.cloudflare.com/ajax/libs/Leaflet.awesome-markers/2.0.2/leaflet.awesome-markers.js&quot;&gt;&lt;/script&gt;\n",
       "    &lt;link rel=&quot;stylesheet&quot; href=&quot;https://cdn.jsdelivr.net/npm/leaflet@1.9.3/dist/leaflet.css&quot;/&gt;\n",
       "    &lt;link rel=&quot;stylesheet&quot; href=&quot;https://cdn.jsdelivr.net/npm/bootstrap@5.2.2/dist/css/bootstrap.min.css&quot;/&gt;\n",
       "    &lt;link rel=&quot;stylesheet&quot; href=&quot;https://netdna.bootstrapcdn.com/bootstrap/3.0.0/css/bootstrap.min.css&quot;/&gt;\n",
       "    &lt;link rel=&quot;stylesheet&quot; href=&quot;https://cdn.jsdelivr.net/npm/@fortawesome/fontawesome-free@6.2.0/css/all.min.css&quot;/&gt;\n",
       "    &lt;link rel=&quot;stylesheet&quot; href=&quot;https://cdnjs.cloudflare.com/ajax/libs/Leaflet.awesome-markers/2.0.2/leaflet.awesome-markers.css&quot;/&gt;\n",
       "    &lt;link rel=&quot;stylesheet&quot; href=&quot;https://cdn.jsdelivr.net/gh/python-visualization/folium/folium/templates/leaflet.awesome.rotate.min.css&quot;/&gt;\n",
       "    \n",
       "            &lt;meta name=&quot;viewport&quot; content=&quot;width=device-width,\n",
       "                initial-scale=1.0, maximum-scale=1.0, user-scalable=no&quot; /&gt;\n",
       "            &lt;style&gt;\n",
       "                #map_01130fca22bd3b1bc145d96ee4984205 {\n",
       "                    position: relative;\n",
       "                    width: 100.0%;\n",
       "                    height: 100.0%;\n",
       "                    left: 0.0%;\n",
       "                    top: 0.0%;\n",
       "                }\n",
       "                .leaflet-container { font-size: 1rem; }\n",
       "            &lt;/style&gt;\n",
       "        \n",
       "&lt;/head&gt;\n",
       "&lt;body&gt;\n",
       "    \n",
       "    \n",
       "            &lt;div class=&quot;folium-map&quot; id=&quot;map_01130fca22bd3b1bc145d96ee4984205&quot; &gt;&lt;/div&gt;\n",
       "        \n",
       "&lt;/body&gt;\n",
       "&lt;script&gt;\n",
       "    \n",
       "    \n",
       "            var map_01130fca22bd3b1bc145d96ee4984205 = L.map(\n",
       "                &quot;map_01130fca22bd3b1bc145d96ee4984205&quot;,\n",
       "                {\n",
       "                    center: [28.6448, 77.216721],\n",
       "                    crs: L.CRS.EPSG3857,\n",
       "                    zoom: 11,\n",
       "                    zoomControl: true,\n",
       "                    preferCanvas: false,\n",
       "                }\n",
       "            );\n",
       "\n",
       "            \n",
       "\n",
       "        \n",
       "    \n",
       "            var tile_layer_e822b330663cea5e4cecaf81eefc25b6 = L.tileLayer(\n",
       "                &quot;https://cartodb-basemaps-{s}.global.ssl.fastly.net/light_all/{z}/{x}/{y}.png&quot;,\n",
       "                {&quot;attribution&quot;: &quot;\\u0026copy; \\u003ca target=\\&quot;_blank\\&quot; href=\\&quot;http://www.openstreetmap.org/copyright\\&quot;\\u003eOpenStreetMap\\u003c/a\\u003e contributors \\u0026copy; \\u003ca target=\\&quot;_blank\\&quot; href=\\&quot;http://cartodb.com/attributions\\&quot;\\u003eCartoDB\\u003c/a\\u003e, CartoDB \\u003ca target=\\&quot;_blank\\&quot; href =\\&quot;http://cartodb.com/attributions\\&quot;\\u003eattributions\\u003c/a\\u003e&quot;, &quot;detectRetina&quot;: false, &quot;maxNativeZoom&quot;: 18, &quot;maxZoom&quot;: 18, &quot;minZoom&quot;: 0, &quot;noWrap&quot;: false, &quot;opacity&quot;: 1, &quot;subdomains&quot;: &quot;abc&quot;, &quot;tms&quot;: false}\n",
       "            ).addTo(map_01130fca22bd3b1bc145d96ee4984205);\n",
       "        \n",
       "    \n",
       "            var marker_141ae1418f21ab327b5ea3196d732009 = L.marker(\n",
       "                [28.6958, 77.244721],\n",
       "                {}\n",
       "            ).addTo(map_01130fca22bd3b1bc145d96ee4984205);\n",
       "        \n",
       "    \n",
       "        var popup_eea772340ee623430df4303765a0b4f1 = L.popup({&quot;maxWidth&quot;: &quot;100%&quot;});\n",
       "\n",
       "        \n",
       "            \n",
       "                var html_d511464dcbe73b140006f257a5533a7a = $(`&lt;div id=&quot;html_d511464dcbe73b140006f257a5533a7a&quot; style=&quot;width: 100.0%; height: 100.0%;&quot;&gt;Default popup Marker1&lt;/div&gt;`)[0];\n",
       "                popup_eea772340ee623430df4303765a0b4f1.setContent(html_d511464dcbe73b140006f257a5533a7a);\n",
       "            \n",
       "        \n",
       "\n",
       "        marker_141ae1418f21ab327b5ea3196d732009.bindPopup(popup_eea772340ee623430df4303765a0b4f1)\n",
       "        ;\n",
       "\n",
       "        \n",
       "    \n",
       "    \n",
       "            marker_141ae1418f21ab327b5ea3196d732009.bindTooltip(\n",
       "                `&lt;div&gt;\n",
       "                     Click here to see Popup\n",
       "                 &lt;/div&gt;`,\n",
       "                {&quot;sticky&quot;: true}\n",
       "            );\n",
       "        \n",
       "&lt;/script&gt;\n",
       "&lt;/html&gt;\" width=\"550\" height=\"350\"style=\"border:none !important;\" \"allowfullscreen\" \"webkitallowfullscreen\" \"mozallowfullscreen\"></iframe>"
      ],
      "text/plain": [
       "<folium.folium.Map at 0x1c575664d30>"
      ]
     },
     "execution_count": 36,
     "metadata": {},
     "output_type": "execute_result"
    }
   ],
   "source": [
    "import folium\n",
    "from branca.element import Figure\n",
    "fig=Figure(width=550,height=350)\n",
    "fig3=Figure(width=550,height=350)\n",
    "m3=folium.Map(location=[28.644800, 77.216721],tiles='cartodbpositron',zoom_start=11)\n",
    "fig3.add_child(m3)\n",
    "folium.Marker(location=[28.695800, 77.244721],popup='Default popup Marker1',tooltip='Click here to see Popup').add_to(m3)\n",
    "m3"
   ]
  },
  {
   "cell_type": "code",
   "execution_count": 44,
   "id": "f0f973e2",
   "metadata": {},
   "outputs": [
    {
     "data": {
      "text/plain": [
       "[]"
      ]
     },
     "execution_count": 44,
     "metadata": {},
     "output_type": "execute_result"
    },
    {
     "data": {
      "image/png": "[encoded data removed]",
      "text/plain": [
       "<Figure size 432x288 with 1 Axes>"
      ]
     },
     "metadata": {
      "needs_background": "light"
     },
     "output_type": "display_data"
    }
   ],
   "source": [
    "sn.scatterplot(x='Longitude',y='Latitude',hue='Aggregate rating' , data=df)\n",
    "plt.title('Relation B/w Location and Rating')\n",
    "plt.plot()"
   ]
  },
  {
   "cell_type": "markdown",
   "id": "a99aecee",
   "metadata": {},
   "source": [
    "# LEVEL 2"
   ]
  },
  {
   "cell_type": "markdown",
   "id": "2d8bd309",
   "metadata": {},
   "source": [
    "## Table Booking and Online Delivery"
   ]
  },
  {
   "cell_type": "code",
   "execution_count": 46,
   "id": "60ffd04a",
   "metadata": {},
   "outputs": [
    {
     "name": "stdout",
     "output_type": "stream",
     "text": [
      "percentage of restaurants offering table booking:\n",
      "No     87.875615\n",
      "Yes    12.124385\n",
      "Name: Has Table booking, dtype: float64\n"
     ]
    }
   ],
   "source": [
    "Table_booking_percentage=(df['Has Table booking'].value_counts(normalize=True)*100)\n",
    "print('percentage of restaurants offering table booking:')\n",
    "print(Table_booking_percentage)"
   ]
  },
  {
   "cell_type": "code",
   "execution_count": 49,
   "id": "34319058",
   "metadata": {},
   "outputs": [
    {
     "name": "stdout",
     "output_type": "stream",
     "text": [
      "Percentage of restaurants offring online delivery\n",
      "No     74.337766\n",
      "Yes    25.662234\n",
      "Name: Has Online delivery, dtype: float64\n"
     ]
    }
   ],
   "source": [
    "online_delivery_percentage=(df['Has Online delivery'].value_counts(normalize=True)*100)\n",
    "print('Percentage of restaurants offring online delivery')\n",
    "print(online_delivery_percentage)"
   ]
  },
  {
   "cell_type": "code",
   "execution_count": 50,
   "id": "f0f0c675",
   "metadata": {},
   "outputs": [
    {
     "name": "stdout",
     "output_type": "stream",
     "text": [
      "Average Rating\n",
      "Has Table booking\n",
      "No     2.559359\n",
      "Yes    3.441969\n",
      "Name: Aggregate rating, dtype: float64\n"
     ]
    }
   ],
   "source": [
    "avg_rating_restraunts_table_book=df.groupby('Has Table booking')['Aggregate rating'].mean()\n",
    "print('Average Rating')\n",
    "print(avg_rating_restraunts_table_book)"
   ]
  },
  {
   "cell_type": "code",
   "execution_count": 52,
   "id": "bbeccf7e",
   "metadata": {},
   "outputs": [
    {
     "name": "stdout",
     "output_type": "stream",
     "text": [
      "percentage of restraunts offring online delivery\n",
      "Has Online delivery         No        Yes\n",
      "Price range                              \n",
      "1                    84.225923  15.774077\n",
      "2                    58.689367  41.310633\n",
      "3                    70.809659  29.190341\n",
      "4                    90.955631   9.044369\n"
     ]
    }
   ],
   "source": [
    "prg = df.groupby('Price range')\n",
    "online_delivery_by_price_range=(prg['Has Online delivery'].value_counts(normalize=True)*100).unstack()\n",
    "print('percentage of restraunts offring online delivery')\n",
    "print(online_delivery_by_price_range)"
   ]
  },
  {
   "cell_type": "code",
   "execution_count": 53,
   "id": "953859e6",
   "metadata": {},
   "outputs": [
    {
     "name": "stdout",
     "output_type": "stream",
     "text": [
      "Most common Price Range: \n",
      "1\n"
     ]
    }
   ],
   "source": [
    "# t2\n",
    "\n",
    "p_r = df['Price range'].value_counts()\n",
    "common_p_r=p_r.idxmax()\n",
    "print('Most common Price Range: ')\n",
    "print(common_p_r)"
   ]
  },
  {
   "cell_type": "code",
   "execution_count": 54,
   "id": "ee734190",
   "metadata": {},
   "outputs": [
    {
     "name": "stdout",
     "output_type": "stream",
     "text": [
      "Avg rating for price range\n",
      "Price range\n",
      "1    1.999887\n",
      "2    2.941054\n",
      "3    3.683381\n",
      "4    3.817918\n",
      "Name: Aggregate rating, dtype: float64\n"
     ]
    }
   ],
   "source": [
    "avg_rating_by_p_r= df.groupby('Price range')['Aggregate rating'].mean()\n",
    "print('Avg rating for price range')\n",
    "print(avg_rating_by_p_r)"
   ]
  },
  {
   "cell_type": "code",
   "execution_count": 61,
   "id": "df02ff1e",
   "metadata": {},
   "outputs": [
    {
     "data": {
      "image/png": "[encoded data removed]",
      "text/plain": [
       "<Figure size 432x288 with 1 Axes>"
      ]
     },
     "metadata": {
      "needs_background": "light"
     },
     "output_type": "display_data"
    }
   ],
   "source": [
    "\n",
    "h_r_p=avg_rating_by_p_r.idxmax()\n",
    "\n",
    "sn.barplot(x=avg_rating_by_p_r.index,y=avg_rating_by_p_r.values)\n",
    "plt.xlabel('price range')\n",
    "plt.ylabel('Avg rating')\n",
    "plt.title('Avg rating for Price range')\n",
    "\n",
    "h_r_p=avg_rating_by_p_r.index.get_loc(h_r_p)\n",
    "plt.bar(h_r_p,avg_rating_by_p_r[h_r_p],color='red')\n",
    "plt.show()"
   ]
  },
  {
   "cell_type": "code",
   "execution_count": 62,
   "id": "3376a9fe",
   "metadata": {},
   "outputs": [
    {
     "name": "stdout",
     "output_type": "stream",
     "text": [
      "   Restaurant ID         Restaurant Name  Country Code              City  \\\n",
      "0        6317637        Le Petit Souffle           162       Makati City   \n",
      "1        6304287        Izakaya Kikufuji           162       Makati City   \n",
      "2        6300002  Heat - Edsa Shangri-La           162  Mandaluyong City   \n",
      "3        6318506                    Ooma           162  Mandaluyong City   \n",
      "4        6314302             Sambo Kojin           162  Mandaluyong City   \n",
      "\n",
      "                                             Address  \\\n",
      "0  Third Floor, Century City Mall, Kalayaan Avenu...   \n",
      "1  Little Tokyo, 2277 Chino Roces Avenue, Legaspi...   \n",
      "2  Edsa Shangri-La, 1 Garden Way, Ortigas, Mandal...   \n",
      "3  Third Floor, Mega Fashion Hall, SM Megamall, O...   \n",
      "4  Third Floor, Mega Atrium, SM Megamall, Ortigas...   \n",
      "\n",
      "                                     Locality  \\\n",
      "0   Century City Mall, Poblacion, Makati City   \n",
      "1  Little Tokyo, Legaspi Village, Makati City   \n",
      "2  Edsa Shangri-La, Ortigas, Mandaluyong City   \n",
      "3      SM Megamall, Ortigas, Mandaluyong City   \n",
      "4      SM Megamall, Ortigas, Mandaluyong City   \n",
      "\n",
      "                                    Locality Verbose   Longitude   Latitude  \\\n",
      "0  Century City Mall, Poblacion, Makati City, Mak...  121.027535  14.565443   \n",
      "1  Little Tokyo, Legaspi Village, Makati City, Ma...  121.014101  14.553708   \n",
      "2  Edsa Shangri-La, Ortigas, Mandaluyong City, Ma...  121.056831  14.581404   \n",
      "3  SM Megamall, Ortigas, Mandaluyong City, Mandal...  121.056475  14.585318   \n",
      "4  SM Megamall, Ortigas, Mandaluyong City, Mandal...  121.057508  14.584450   \n",
      "\n",
      "                           Cuisines  ...  Has Online delivery  \\\n",
      "0        French, Japanese, Desserts  ...                   No   \n",
      "1                          Japanese  ...                   No   \n",
      "2  Seafood, Asian, Filipino, Indian  ...                   No   \n",
      "3                   Japanese, Sushi  ...                   No   \n",
      "4                  Japanese, Korean  ...                   No   \n",
      "\n",
      "  Is delivering now Switch to order menu Price range Aggregate rating  \\\n",
      "0                No                   No           3              4.8   \n",
      "1                No                   No           3              4.5   \n",
      "2                No                   No           4              4.4   \n",
      "3                No                   No           4              4.9   \n",
      "4                No                   No           4              4.8   \n",
      "\n",
      "  Rating color  Rating text  Votes Name Length Address Length  \n",
      "0   Dark Green    Excellent    314          16             71  \n",
      "1   Dark Green    Excellent    591          16             67  \n",
      "2        Green    Very Good    270          22             56  \n",
      "3   Dark Green    Excellent    365           4             70  \n",
      "4   Dark Green    Excellent    229          11             64  \n",
      "\n",
      "[5 rows x 23 columns]\n"
     ]
    }
   ],
   "source": [
    "# t3 \n",
    "\n",
    "df['Name Length'] = df['Restaurant Name'].apply(len)\n",
    "df['Address Length'] = df['Address'].apply(len)\n",
    "print(df.head())"
   ]
  },
  {
   "cell_type": "code",
   "execution_count": 64,
   "id": "e917e94a",
   "metadata": {},
   "outputs": [
    {
     "data": {
      "text/html": [
       "<div>\n",
       "<style scoped>\n",
       "    .dataframe tbody tr th:only-of-type {\n",
       "        vertical-align: middle;\n",
       "    }\n",
       "\n",
       "    .dataframe tbody tr th {\n",
       "        vertical-align: top;\n",
       "    }\n",
       "\n",
       "    .dataframe thead th {\n",
       "        text-align: right;\n",
       "    }\n",
       "</style>\n",
       "<table border=\"1\" class=\"dataframe\">\n",
       "  <thead>\n",
       "    <tr style=\"text-align: right;\">\n",
       "      <th></th>\n",
       "      <th>Restaurant ID</th>\n",
       "      <th>Restaurant Name</th>\n",
       "      <th>Country Code</th>\n",
       "      <th>City</th>\n",
       "      <th>Address</th>\n",
       "      <th>Locality</th>\n",
       "      <th>Locality Verbose</th>\n",
       "      <th>Longitude</th>\n",
       "      <th>Latitude</th>\n",
       "      <th>Cuisines</th>\n",
       "      <th>...</th>\n",
       "      <th>Aggregate rating</th>\n",
       "      <th>Rating color</th>\n",
       "      <th>Rating text</th>\n",
       "      <th>Votes</th>\n",
       "      <th>Name Length</th>\n",
       "      <th>Address Length</th>\n",
       "      <th>Has Table booking_No</th>\n",
       "      <th>Has Table booking_Yes</th>\n",
       "      <th>Has Online delivery_No</th>\n",
       "      <th>Has Online delivery_Yes</th>\n",
       "    </tr>\n",
       "  </thead>\n",
       "  <tbody>\n",
       "    <tr>\n",
       "      <th>0</th>\n",
       "      <td>6317637</td>\n",
       "      <td>Le Petit Souffle</td>\n",
       "      <td>162</td>\n",
       "      <td>Makati City</td>\n",
       "      <td>Third Floor, Century City Mall, Kalayaan Avenu...</td>\n",
       "      <td>Century City Mall, Poblacion, Makati City</td>\n",
       "      <td>Century City Mall, Poblacion, Makati City, Mak...</td>\n",
       "      <td>121.027535</td>\n",
       "      <td>14.565443</td>\n",
       "      <td>French, Japanese, Desserts</td>\n",
       "      <td>...</td>\n",
       "      <td>4.8</td>\n",
       "      <td>Dark Green</td>\n",
       "      <td>Excellent</td>\n",
       "      <td>314</td>\n",
       "      <td>16</td>\n",
       "      <td>71</td>\n",
       "      <td>0</td>\n",
       "      <td>1</td>\n",
       "      <td>1</td>\n",
       "      <td>0</td>\n",
       "    </tr>\n",
       "    <tr>\n",
       "      <th>1</th>\n",
       "      <td>6304287</td>\n",
       "      <td>Izakaya Kikufuji</td>\n",
       "      <td>162</td>\n",
       "      <td>Makati City</td>\n",
       "      <td>Little Tokyo, 2277 Chino Roces Avenue, Legaspi...</td>\n",
       "      <td>Little Tokyo, Legaspi Village, Makati City</td>\n",
       "      <td>Little Tokyo, Legaspi Village, Makati City, Ma...</td>\n",
       "      <td>121.014101</td>\n",
       "      <td>14.553708</td>\n",
       "      <td>Japanese</td>\n",
       "      <td>...</td>\n",
       "      <td>4.5</td>\n",
       "      <td>Dark Green</td>\n",
       "      <td>Excellent</td>\n",
       "      <td>591</td>\n",
       "      <td>16</td>\n",
       "      <td>67</td>\n",
       "      <td>0</td>\n",
       "      <td>1</td>\n",
       "      <td>1</td>\n",
       "      <td>0</td>\n",
       "    </tr>\n",
       "    <tr>\n",
       "      <th>2</th>\n",
       "      <td>6300002</td>\n",
       "      <td>Heat - Edsa Shangri-La</td>\n",
       "      <td>162</td>\n",
       "      <td>Mandaluyong City</td>\n",
       "      <td>Edsa Shangri-La, 1 Garden Way, Ortigas, Mandal...</td>\n",
       "      <td>Edsa Shangri-La, Ortigas, Mandaluyong City</td>\n",
       "      <td>Edsa Shangri-La, Ortigas, Mandaluyong City, Ma...</td>\n",
       "      <td>121.056831</td>\n",
       "      <td>14.581404</td>\n",
       "      <td>Seafood, Asian, Filipino, Indian</td>\n",
       "      <td>...</td>\n",
       "      <td>4.4</td>\n",
       "      <td>Green</td>\n",
       "      <td>Very Good</td>\n",
       "      <td>270</td>\n",
       "      <td>22</td>\n",
       "      <td>56</td>\n",
       "      <td>0</td>\n",
       "      <td>1</td>\n",
       "      <td>1</td>\n",
       "      <td>0</td>\n",
       "    </tr>\n",
       "    <tr>\n",
       "      <th>3</th>\n",
       "      <td>6318506</td>\n",
       "      <td>Ooma</td>\n",
       "      <td>162</td>\n",
       "      <td>Mandaluyong City</td>\n",
       "      <td>Third Floor, Mega Fashion Hall, SM Megamall, O...</td>\n",
       "      <td>SM Megamall, Ortigas, Mandaluyong City</td>\n",
       "      <td>SM Megamall, Ortigas, Mandaluyong City, Mandal...</td>\n",
       "      <td>121.056475</td>\n",
       "      <td>14.585318</td>\n",
       "      <td>Japanese, Sushi</td>\n",
       "      <td>...</td>\n",
       "      <td>4.9</td>\n",
       "      <td>Dark Green</td>\n",
       "      <td>Excellent</td>\n",
       "      <td>365</td>\n",
       "      <td>4</td>\n",
       "      <td>70</td>\n",
       "      <td>1</td>\n",
       "      <td>0</td>\n",
       "      <td>1</td>\n",
       "      <td>0</td>\n",
       "    </tr>\n",
       "    <tr>\n",
       "      <th>4</th>\n",
       "      <td>6314302</td>\n",
       "      <td>Sambo Kojin</td>\n",
       "      <td>162</td>\n",
       "      <td>Mandaluyong City</td>\n",
       "      <td>Third Floor, Mega Atrium, SM Megamall, Ortigas...</td>\n",
       "      <td>SM Megamall, Ortigas, Mandaluyong City</td>\n",
       "      <td>SM Megamall, Ortigas, Mandaluyong City, Mandal...</td>\n",
       "      <td>121.057508</td>\n",
       "      <td>14.584450</td>\n",
       "      <td>Japanese, Korean</td>\n",
       "      <td>...</td>\n",
       "      <td>4.8</td>\n",
       "      <td>Dark Green</td>\n",
       "      <td>Excellent</td>\n",
       "      <td>229</td>\n",
       "      <td>11</td>\n",
       "      <td>64</td>\n",
       "      <td>0</td>\n",
       "      <td>1</td>\n",
       "      <td>1</td>\n",
       "      <td>0</td>\n",
       "    </tr>\n",
       "  </tbody>\n",
       "</table>\n",
       "<p>5 rows × 25 columns</p>\n",
       "</div>"
      ],
      "text/plain": [
       "   Restaurant ID         Restaurant Name  Country Code              City  \\\n",
       "0        6317637        Le Petit Souffle           162       Makati City   \n",
       "1        6304287        Izakaya Kikufuji           162       Makati City   \n",
       "2        6300002  Heat - Edsa Shangri-La           162  Mandaluyong City   \n",
       "3        6318506                    Ooma           162  Mandaluyong City   \n",
       "4        6314302             Sambo Kojin           162  Mandaluyong City   \n",
       "\n",
       "                                             Address  \\\n",
       "0  Third Floor, Century City Mall, Kalayaan Avenu...   \n",
       "1  Little Tokyo, 2277 Chino Roces Avenue, Legaspi...   \n",
       "2  Edsa Shangri-La, 1 Garden Way, Ortigas, Mandal...   \n",
       "3  Third Floor, Mega Fashion Hall, SM Megamall, O...   \n",
       "4  Third Floor, Mega Atrium, SM Megamall, Ortigas...   \n",
       "\n",
       "                                     Locality  \\\n",
       "0   Century City Mall, Poblacion, Makati City   \n",
       "1  Little Tokyo, Legaspi Village, Makati City   \n",
       "2  Edsa Shangri-La, Ortigas, Mandaluyong City   \n",
       "3      SM Megamall, Ortigas, Mandaluyong City   \n",
       "4      SM Megamall, Ortigas, Mandaluyong City   \n",
       "\n",
       "                                    Locality Verbose   Longitude   Latitude  \\\n",
       "0  Century City Mall, Poblacion, Makati City, Mak...  121.027535  14.565443   \n",
       "1  Little Tokyo, Legaspi Village, Makati City, Ma...  121.014101  14.553708   \n",
       "2  Edsa Shangri-La, Ortigas, Mandaluyong City, Ma...  121.056831  14.581404   \n",
       "3  SM Megamall, Ortigas, Mandaluyong City, Mandal...  121.056475  14.585318   \n",
       "4  SM Megamall, Ortigas, Mandaluyong City, Mandal...  121.057508  14.584450   \n",
       "\n",
       "                           Cuisines  ...  Aggregate rating Rating color  \\\n",
       "0        French, Japanese, Desserts  ...               4.8   Dark Green   \n",
       "1                          Japanese  ...               4.5   Dark Green   \n",
       "2  Seafood, Asian, Filipino, Indian  ...               4.4        Green   \n",
       "3                   Japanese, Sushi  ...               4.9   Dark Green   \n",
       "4                  Japanese, Korean  ...               4.8   Dark Green   \n",
       "\n",
       "  Rating text Votes  Name Length  Address Length Has Table booking_No  \\\n",
       "0   Excellent   314           16              71                    0   \n",
       "1   Excellent   591           16              67                    0   \n",
       "2   Very Good   270           22              56                    0   \n",
       "3   Excellent   365            4              70                    1   \n",
       "4   Excellent   229           11              64                    0   \n",
       "\n",
       "  Has Table booking_Yes  Has Online delivery_No  Has Online delivery_Yes  \n",
       "0                     1                       1                        0  \n",
       "1                     1                       1                        0  \n",
       "2                     1                       1                        0  \n",
       "3                     0                       1                        0  \n",
       "4                     1                       1                        0  \n",
       "\n",
       "[5 rows x 25 columns]"
      ]
     },
     "execution_count": 64,
     "metadata": {},
     "output_type": "execute_result"
    }
   ],
   "source": [
    "D = pd.get_dummies(df,columns=['Has Table booking' , 'Has Online delivery'])\n",
    "D.head()"
   ]
  },
  {
   "cell_type": "code",
   "execution_count": null,
   "id": "547d80c4",
   "metadata": {},
   "outputs": [],
   "source": []
  }
 ],
 "metadata": {
  "kernelspec": {
   "display_name": "Python 3 (ipykernel)",
   "language": "python",
   "name": "python3"
  },
  "language_info": {
   "codemirror_mode": {
    "name": "ipython",
    "version": 3
   },
   "file_extension": ".py",
   "mimetype": "text/x-python",
   "name": "python",
   "nbconvert_exporter": "python",
   "pygments_lexer": "ipython3",
   "version": "3.9.12"
  }
 },
 "nbformat": 4,
 "nbformat_minor": 5
}
